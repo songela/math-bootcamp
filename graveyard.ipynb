{
 "cells": [
  {
   "cell_type": "markdown",
   "metadata": {},
   "source": [
    "# Arrays\n",
    "\n",
    "Scientific programming heavily relies on the `numpy` package for writing high\\-performance Python code. Numpy centers the `np.ndarray` data structure, which can naturally represent the vectors and matrices that often come up in chemistry! We can think of arrays as more performant and slightly less flexible lists.  \n",
    "\n",
    "It's conventional to `import numpy as np` so that you can access `numpy` functions with 3 less letters.\n",
    "\n"
   ]
  },
  {
   "cell_type": "code",
   "execution_count": null,
   "metadata": {},
   "outputs": [],
   "source": [
    "import numpy as np\n",
    "primes_array = np.array(primes)\n",
    "type(primes_array)"
   ]
  },
  {
   "cell_type": "markdown",
   "metadata": {},
   "source": [
    "The `numpy` array in some ways acts like a fancy list. We can access elements with bracket and slice the arrays just like a list:\n"
   ]
  },
  {
   "cell_type": "code",
   "execution_count": null,
   "metadata": {},
   "outputs": [],
   "source": [
    "element = primes_array[0]\n",
    "print('element', element)\n",
    "\n",
    "subset = primes_array[2:12:3]\n",
    "print('subset', subset)"
   ]
  },
  {
   "cell_type": "markdown",
   "metadata": {},
   "source": [
    "But `numpy` is also equipped with a variety of powerful methods we can use for analysis, we'll demonstrate a few here and introduce more later!  \n",
    "\n"
   ]
  },
  {
   "cell_type": "code",
   "execution_count": null,
   "metadata": {},
   "outputs": [],
   "source": [
    "max = np.max(primes_array)\n",
    "print('max', max)\n",
    "\n",
    "min = np.min(primes_array)\n",
    "print('min', min)"
   ]
  },
  {
   "cell_type": "markdown",
   "metadata": {},
   "source": [
    "Multi\\-dimensional arrays can be created much like the single dimensional arrays we created above.  \n",
    "\n"
   ]
  },
  {
   "cell_type": "code",
   "execution_count": null,
   "metadata": {},
   "outputs": [],
   "source": [
    "identity = np.array(\n",
    "    [[1, 0, 0],\n",
    "     [0, 1, 0],\n",
    "     [0, 0, 1]]\n",
    ")\n",
    "print(identity, 'is the identity matrix.')"
   ]
  },
  {
   "cell_type": "markdown",
   "metadata": {},
   "source": [
    "These multidimensional arrays have a different \"shape\" than the single dimensional arrays.  \n",
    "\n"
   ]
  },
  {
   "cell_type": "code",
   "execution_count": null,
   "metadata": {},
   "outputs": [],
   "source": [
    "print('shape of primes', primes_array.shape)\n",
    "print('shape of identify', identity.shape)"
   ]
  },
  {
   "cell_type": "markdown",
   "metadata": {},
   "source": [
    "We can see that the primes are a 1-dimensional array of length 12 and the identity is a 3x3 2-dimensional array.\n",
    "\n"
   ]
  },
  {
   "cell_type": "markdown",
   "metadata": {},
   "source": [
    "### Problems"
   ]
  },
  {
   "cell_type": "markdown",
   "metadata": {},
   "source": [
    "\n",
    "`1` Create a 1D array of length 5 full of zeros using the `zeros()` function found in `numpy`, you might want to read the documentation found here: \n",
    "\n",
    "https://numpy.org/doc/stable/reference/generated/numpy.zeros.html \n",
    "\n",
    "Once you have your array of zeros, use a for loop to fill the array with \\[3, 5, 7, 9, 11\\]. Note that each value is defined as $2x+3$ where $x$ is $0,1,2,3,4$. You might find the built in function `range` also helpful.\n",
    "\n"
   ]
  },
  {
   "cell_type": "code",
   "execution_count": null,
   "metadata": {},
   "outputs": [],
   "source": [
    "# your code here!"
   ]
  },
  {
   "cell_type": "markdown",
   "metadata": {},
   "source": [
    "`2` Now let's try doing something similar for a 2D function. The way to access the member of a 2D numpy array is `my_array[index1, index2]`. Write code that creates a 4x4 matrix where each cell of the matrix satisfies the equation $z=2x^2 + y^3 -9$, where x and y are integers from 0 to 3. For example, `my_array[1,2]` should be \n",
    "\n",
    "$$\n",
    "2*1^2 + 2^3-9\n",
    "$$\n",
    "$$\n",
    "=1\n",
    "$$"
   ]
  },
  {
   "cell_type": "code",
   "execution_count": null,
   "metadata": {},
   "outputs": [],
   "source": [
    "# your code here!"
   ]
  },
  {
   "cell_type": "code",
   "execution_count": null,
   "metadata": {},
   "outputs": [],
   "source": [
    "### Solutions"
   ]
  },
  {
   "cell_type": "markdown",
   "metadata": {},
   "source": [
    "`1` Create a 1D array of length 5 full of zeros using the `zeros()` function found in `numpy`, you might want to read the documentation found here: \n",
    "\n",
    "https://numpy.org/doc/stable/reference/generated/numpy.zeros.html \n",
    "\n",
    "Once you have your array of zeros, use a for loop to fill the array with \\[3, 5, 7, 9, 11\\]. Note that each value is defined as $2x+3$ where $x$ is $0,1,2,3,4$. You might find the built in function `range` also helpful.\n",
    "\n"
   ]
  },
  {
   "cell_type": "code",
   "execution_count": null,
   "metadata": {},
   "outputs": [],
   "source": [
    "import numpy as np\n",
    "\n",
    "five_zeros = np.zeros(5) # Creates the initial array\n",
    "\n",
    "for x in range(5): # Loops through all indices\n",
    "    five_zeros[x] = 2 * x + 3 # Assigns appropriate value\n",
    "\n",
    "print(five_zeros)\n"
   ]
  },
  {
   "cell_type": "markdown",
   "metadata": {},
   "source": [
    "`2` Now let's try doing something similar for a 2D function. The way to access the member of a 2D array is `my_array[index1][index2].`Write code that creates a 4x4 matrix where each cell of the matrix satisfies the equation $z=2x^2 + y^3 -9$, where x and y are integers from 0 to 3. For example, `my_array[1][2]` should be \n",
    "\n",
    "$$\n",
    "2*1^2 + 2^3-9\n",
    "$$\n",
    "\n",
    "$$\n",
    "=1\n",
    "$$\n",
    "\n"
   ]
  },
  {
   "cell_type": "code",
   "execution_count": null,
   "metadata": {},
   "outputs": [],
   "source": [
    "matrix = np.zeros((4, 4)) # Creates the initial array\n",
    "\n",
    "# Loops through both dimensions\n",
    "for x in range(4):\n",
    "    for y in range(4):\n",
    "        matrix[x][y] = 2 * x ** 2 + y ** 3 - 9 # Assigns appropriate value\n",
    "\n",
    "print(matrix)"
   ]
  },
  {
   "cell_type": "markdown",
   "metadata": {},
   "source": [
    "### Simple SMILES\n",
    "\n",
    "SMILES are a popular text representation of molecules. They use a string of elements and bonds to encode the molecular structure, with hydrogens represented implicitly. For example, ethyl alcohol is encoded as \"CCO\". For this problem, we will use a simplified SMILES representation to encode linear Carbon chains with arbitrary functional groups. Here are the rules:\n",
    "\n",
    "1. We will only include C, O, N, F, and H.\n",
    "\n",
    "2. If no bond is given, we will assume a single bond is formed. Double bonds are represented with = and triple bonds are represented with #. \n",
    "\n",
    "3. We will only encode linear chains of carbons. Any non-carbon atoms will be bonded to the preceding carbon. For example, carbonic acid is represented as COO=O. Though it might look like the final oxygen is bonded to the second oxygen, by this rule, it is bonded to the carbon.\n",
    "\n",
    "4. Hydrogens are represented implicitly and all atoms are neutral.\n",
    "\n",
    "Examples:\n",
    "\n",
    "- CO: methyl alcohol\n",
    "- CFFCFF: polytetrafluoroethylene monomer\n",
    "- CCCCO: butanol\n",
    "- COO=O: carbonic acid\n",
    "- CCN: ethyl amine\n",
    "- CCCC#N: butyro nitride\n",
    "\n",
    "Write a function that calculates the number of bonds in a molecule from the smile.\n",
    "\n",
    "**HINT:** we can calculate the number of bonds by considering only the identify of each element. If we ignore the bond from the up-chain carbon, carbons form 3 bonds, nitrogen 2, oxygen 1, and fluorine 0. Similar logic can be applied to double and triple bonds.\n"
   ]
  },
  {
   "cell_type": "code",
   "execution_count": null,
   "metadata": {},
   "outputs": [],
   "source": [
    "def number_of_bonds(smile):\n",
    "    # your code here #\n",
    "    return # number of bonds #"
   ]
  },
  {
   "cell_type": "markdown",
   "metadata": {},
   "source": [
    "**Testing your code is an extremely good practice**\n",
    "\n",
    "If you have successfully written your function, the following cell should print `\"success\"` without any error."
   ]
  },
  {
   "cell_type": "code",
   "execution_count": null,
   "metadata": {},
   "outputs": [],
   "source": [
    "def test_number_of_bonds():\n",
    "    # this function should print success\n",
    "    assert number_of_bonds(\"CO\") == 5\n",
    "    assert number_of_bonds(\"CFFCFF\") == 7\n",
    "    assert number_of_bonds(\"CCCCO\") == 14\n",
    "    assert number_of_bonds(\"COO=O\") == 5\n",
    "    assert number_of_bonds(\"CCN\") == 9\n",
    "    assert number_of_bonds(\"CCCC#N\") == 11\n",
    "    print(\"success\")\n",
    "\n",
    "test_number_of_bonds()"
   ]
  },
  {
   "cell_type": "markdown",
   "metadata": {},
   "source": [
    "### Simple SMILES"
   ]
  },
  {
   "cell_type": "code",
   "execution_count": null,
   "metadata": {},
   "outputs": [],
   "source": [
    "# solutions to number of bonds\n",
    "\n",
    "def number_of_bonds(smile):\n",
    "    counts = {\"C\": 0, \"O\": 0, \"N\": 0, \"F\": 0, \"=\": 0, \"#\": 0}\n",
    "    for character in smile:\n",
    "        counts[character] += 1\n",
    "    non_terminal_bonds = counts[\"C\"] * 3 + counts[\"N\"] * 2 + counts[\"O\"]\n",
    "    bond_order_overcount = counts[\"=\"] * 2 + counts[\"#\"] * 4\n",
    "    n_bonds = non_terminal_bonds - bond_order_overcount + 1\n",
    "    return n_bonds\n",
    "\n",
    "def number_of_bonds(smile):\n",
    "    bonds = {\"C\": 3, \"N\": 2, \"O\": 1, \"F\": 0, \"=\": -2, \"#\": -4}\n",
    "    bond_count = 1\n",
    "    for character in smile:\n",
    "        bond_count += bonds[character]\n",
    "    return bond_count"
   ]
  },
  {
   "cell_type": "code",
   "execution_count": null,
   "metadata": {},
   "outputs": [],
   "source": [
    "def test_number_of_bonds():\n",
    "    # this function should print success\n",
    "    assert number_of_bonds(\"CO\") == 5\n",
    "    assert number_of_bonds(\"CFFCFF\") == 7\n",
    "    assert number_of_bonds(\"CCCCO\") == 14\n",
    "    assert number_of_bonds(\"COO=O\") == 5\n",
    "    assert number_of_bonds(\"CCN\") == 9\n",
    "    assert number_of_bonds(\"CCCC#N\") == 11\n",
    "    print(\"success\")\n",
    "\n",
    "test_number_of_bonds()"
   ]
  },
  {
   "cell_type": "markdown",
   "metadata": {},
   "source": [
    "### Euler Method\n",
    "In the Functions and Approximations module, you used the Euler method to compute a derivative. Now do the same using Python!\n",
    "\n",
    "Consider the differential equation\n",
    "$$\\frac{df}{dt} = f(t) -t$$\n",
    "with the initial condition $f(t=0)=\\frac{1}{2}$. \n",
    "\n",
    "Use the Euler method to approximate the function $f(t)$ from $t=0$ to $t=1$ using time steps of $\\Delta t =0.2$ and $\\Delta t = 0.5$ As a reminder, the Euler method is given by\n",
    "$$f(t+\\Delta t) = f(t) + \\Delta t \\frac{df}{dt}$$\n",
    "\n",
    "Plot both approximations as well as the analytical function, $f(t) = -\\frac{1}{2}e^t + t + 1$. Comment on the qualities of the approximations. How could we improve our approximation?"
   ]
  },
  {
   "cell_type": "markdown",
   "metadata": {},
   "source": [
    "### Plot and solve a self-consistent equation"
   ]
  },
  {
   "cell_type": "markdown",
   "metadata": {},
   "source": [
    "Plot $f(x) = \\tanh(ax)$ over the domain $[-1, 1]$ for several values of $a$ (suggestion: $a<1, a=1, a>1$). Also plot $y=x$ for reference. Label your plot!"
   ]
  },
  {
   "cell_type": "code",
   "execution_count": null,
   "metadata": {},
   "outputs": [
    {
     "data": {
      "text/plain": [
       "<matplotlib.legend.Legend at 0x1159beee0>"
      ]
     },
     "metadata": {},
     "output_type": "display_data"
    },
    {
     "data": {
      "image/png": "[encoded data removed]",
      "text/plain": [
       "<Figure size 640x480 with 1 Axes>"
      ]
     },
     "metadata": {},
     "output_type": "display_data"
    }
   ],
   "source": [
    "x = np.arange(-1, 1, 0.01)\n",
    "for a in [0.5, 1, 1.5]:\n",
    "    plt.plot(x, np.tanh(a*x), label=f\"tanh({a}x)\")\n",
    "plt.plot(x, x, color='k', label=\"y=x\")\n",
    "plt.legend()"
   ]
  },
  {
   "cell_type": "markdown",
   "metadata": {},
   "source": [
    "Find the solutions to the self-consistent equation.\n",
    "Hint: `np.isclose`"
   ]
  },
  {
   "cell_type": "code",
   "execution_count": null,
   "metadata": {},
   "outputs": [
    {
     "name": "stdout",
     "output_type": "stream",
     "text": [
      "{0.5: [4.440892098500626e-16], 1: [-0.1390924478784573, -0.1292725836060576, -0.11942729853438512, -0.10955847021442874, -0.09966799462495503, -0.0897577847471593, -0.07982976911113056, -0.06988589031642817, -0.05992810352914267, -0.04995837495787913, -0.039978680311162716, -0.029991003238819286, -0.019997333759930062, -0.00999966667999858, 8.881784197001252e-16, 0.009999666680000357, 0.019997333759931835, 0.02999100323882106, 0.03997868031116449, 0.0499583749578809, 0.05992810352914444, 0.06988589031642993, 0.07982976911113232, 0.08975778474716106, 0.09966799462495679, 0.1095584702144305, 0.11942729853438687, 0.1292725836060593, 0.139092447878459], 1.5: [-0.8591265382143658, 1.3322676295501878e-15, 0.8591265382143665]}\n"
     ]
    }
   ],
   "source": [
    "solutions = {}\n",
    "for a in [0.5, 1, 1.5]:\n",
    "    solutions[a] = []\n",
    "    for i, j in zip(np.tanh(a*x), x):\n",
    "        if np.isclose(i, j, atol=1e-3):\n",
    "            solutions[a].append(i)\n",
    "print(solutions)"
   ]
  }
 ],
 "metadata": {
  "kernelspec": {
   "display_name": "Python 3",
   "language": "python",
   "name": "python3"
  },
  "language_info": {
   "codemirror_mode": {
    "name": "ipython",
    "version": 3
   },
   "file_extension": ".py",
   "mimetype": "text/x-python",
   "name": "python",
   "nbconvert_exporter": "python",
   "pygments_lexer": "ipython3",
   "version": "3.9.6"
  }
 },
 "nbformat": 4,
 "nbformat_minor": 2
}
