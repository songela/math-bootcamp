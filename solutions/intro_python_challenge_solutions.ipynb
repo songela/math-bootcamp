{
 "cells": [
  {
   "cell_type": "markdown",
   "metadata": {},
   "source": [
    "# More Challenging Problems!"
   ]
  },
  {
   "cell_type": "markdown",
   "metadata": {},
   "source": [
    "### File Manipulation\n",
    "\n",
    "`1` \n",
    "Write a function called even_copy() that will take in the name of a file as an input and copies only the even lines of that file to an output file. "
   ]
  },
  {
   "cell_type": "code",
   "execution_count": null,
   "metadata": {},
   "outputs": [
    {
     "name": "stdout",
     "output_type": "stream",
     "text": [
      "Completed copy of SampleFiles/ExampleOddEvenFile.txt succesfully.\n",
      "\n",
      "Output already exists\n",
      "\n",
      "Input does not exist\n",
      "\n",
      "Completed copy of SampleFiles/EmptyFile.txt succesfully.\n",
      "\n",
      "Completed copy of SampleFiles/SingleLine.txt succesfully.\n",
      "\n"
     ]
    }
   ],
   "source": [
    "import os\n",
    "def even_copy(path_to_file):\n",
    "    \"\"\"Input: path to a data file. If path does not exist, returns error message. Assumes file ends in \".txt\".\n",
    "    Result: Creates an output file and writes only even lines of inupt file to new file which it places in\n",
    "    output_dir. If output file already exists, returns error message\"\"\"\n",
    "    \n",
    "    # First check existence of input and output + appropriate format\n",
    "    \n",
    "    if not os.path.isfile(path_to_file):\n",
    "        err = \"Input does not exist\\n\"\n",
    "        return err\n",
    "    \n",
    "    if not path_to_file.endswith('.txt'):\n",
    "        err = \"Input does not end in .txt\\n\"\n",
    "        return err\n",
    "    \n",
    "    output_file = path_to_file.replace('.txt','_copied.txt')\n",
    "    \n",
    "    if os.path.isfile(output_file):\n",
    "        err = \"Output already exists\\n\"\n",
    "        return err\n",
    "    \n",
    "    # Now can do the copying\n",
    "    input_stream = open(path_to_file, 'r')\n",
    "    file_contents = input_stream.read()\n",
    "    input_stream.close()\n",
    "    \n",
    "    # Split contents by line\n",
    "    file_contents = file_contents.split(\"\\n\")\n",
    "    num_lines = len(file_contents)\n",
    "    \n",
    "    # Write out even lines\n",
    "    with open(output_file, 'w') as output_stream: \n",
    "        for i in range(0, num_lines, 2):\n",
    "            output_stream.write(file_contents[i] + \"\\n\")\n",
    "    \n",
    "    return \"Completed copy of \" + path_to_file + \" succesfully.\\n\"\n",
    "\n",
    "# Tests\n",
    "print(even_copy(\"SampleFiles/ExampleOddEvenFile.txt\"))\n",
    "print(even_copy(\"SampleFiles/ExampleOddEvenFile.txt\")) # Should print output exists error \n",
    "print(even_copy(\"SampleFiles/NonexistentFile.txt\")) # Should print input does not exist error \n",
    "print(even_copy(\"SampleFiles/EmptyFile.txt\"))\n",
    "print(even_copy(\"SampleFiles/SingleLine.txt\"))\n"
   ]
  },
  {
   "cell_type": "markdown",
   "metadata": {},
   "source": [
    "Bonus: Can you think of a way to make your function more general so that the user of the function can specify which lines they would like to copy of the input file?"
   ]
  },
  {
   "cell_type": "code",
   "execution_count": null,
   "metadata": {},
   "outputs": [],
   "source": [
    "import os\n",
    "def copy_lines(path_to_file, lines_to_copy=None):\n",
    "    \"\"\"Input: path to a data file. If path does not exist, returns error message. Assumes file ends in \".txt\".\n",
    "    Result: Creates an output file and writes only even lines of inupt file to new file which it places in\n",
    "    output_dir. If output file already exists, returns error message\"\"\"\n",
    "    \n",
    "    # First check existence of input and output + appropriate format\n",
    "    \n",
    "    if not os.path.isfile(path_to_file):\n",
    "        err = \"Input does not exist\\n\"\n",
    "        return err\n",
    "    \n",
    "    if not path_to_file.endswith('.txt'):\n",
    "        err = \"Input does not end in .txt\\n\"\n",
    "        return err\n",
    "    \n",
    "    output_file = path_to_file.replace('.txt','_copied.txt')\n",
    "    \n",
    "    if os.path.isfile(output_file):\n",
    "        err = \"Output already exists\\n\"\n",
    "        return err\n",
    "    \n",
    "    # Now can do the copying\n",
    "    input_stream = open(path_to_file, 'r')\n",
    "    file_contents = input_stream.read()\n",
    "    input_stream.close()\n",
    "    \n",
    "    # Split contents by line\n",
    "    file_contents = file_contents.split(\"\\n\")\n",
    "    num_lines = len(file_contents)\n",
    "    \n",
    "    # BONUS: Get even lines if not otherwise specified\n",
    "    if lines_to_copy is None:\n",
    "        lines_to_copy = [i for i in range(len(num_lines)) if i % 0 ==2]\n",
    "    \n",
    "    # BONUS: Write out the lines specified\n",
    "    with open(output_file, 'w') as output_stream: \n",
    "        for i in lines_to_copy: # BONUS difference here\n",
    "            output_stream.write(file_contents[i] + \"\\n\")\n",
    "    \n",
    "    return \"Completed copy of \" + path_to_file + \" successfully.\\n\""
   ]
  },
  {
   "cell_type": "markdown",
   "metadata": {},
   "source": [
    "`2` Using the documentation, https://docs.python.org/3/library/os.path.html and https://docs.python.org/3/library/stdtypes.html#string-methods, write a function called directory_search() that will search through a given directory, and copy all of the files in that directory whose names begin with a given key phrase, placing the copies in a new directory.  If the inputted directory name was \"data_dir/\", then name the new directory as \"subset_of_data_dir/\". Make sure to consider edge cases and test your code!"
   ]
  },
  {
   "cell_type": "code",
   "execution_count": null,
   "metadata": {},
   "outputs": [
    {
     "name": "stdout",
     "output_type": "stream",
     "text": [
      "Completed copy of SampleFiles/key_phrase_1.txt succesfully.\n",
      "Completed copy of SampleFiles/key_phrase_2.txt succesfully.\n",
      "\n",
      "Output already exists\n",
      "Output already exists\n",
      "\n",
      "Input does not exist\n",
      "\n",
      "\n"
     ]
    }
   ],
   "source": [
    "def directory_search(data_dir, key_phrase):\n",
    "    \"\"\"Searches through the directory data_dir and copies files beginning with key_phrase to new directory\n",
    "    If input directory does not exist, returns error message. Note, there are probably a bunch of ways to do\n",
    "    this one, here is one straightfoward approach. Using terminal commands would for instance make this much simpler\"\"\"\n",
    "    \n",
    "    # Check existence and format\n",
    "    if not os.path.exists(data_dir):\n",
    "        err = \"Input does not exist\\n\"\n",
    "        return err\n",
    "    \n",
    "    # Add forward slash at the end if not already included\n",
    "    if not data_dir.endswith(\"/\"):\n",
    "        data_dir += \"/\"\n",
    "    \n",
    "    # Search through all files identifying those that begin with key_phrase\n",
    "    message=\"\"\n",
    "    for file in os.scandir(data_dir):\n",
    "        if file.name.startswith(key_phrase):\n",
    "            # Do the copying but not on previosuly copied files\n",
    "            if not file.name.endswith(\"_copied.txt\"): \n",
    "                message += even_copy(data_dir + file.name)\n",
    "    return message  \n",
    "            \n",
    "    \n",
    "            \n",
    "# Tests\n",
    "print(directory_search(\"SampleFiles/\", \"key_phrase\"))\n",
    "print(directory_search(\"SampleFiles\", \"key_phrase\")) # Should print output exists error and nothing else\n",
    "print(directory_search(\"NonExistentFiles/\", \"key_phrase\")) # Should print input does not exist error \n",
    "print(directory_search(\"SampleFiles/\", \"non_existent_key_phrase\")) # Should do nothing\n",
    "    "
   ]
  },
  {
   "cell_type": "markdown",
   "metadata": {},
   "source": [
    "### Calculate Cycle Number"
   ]
  },
  {
   "cell_type": "code",
   "execution_count": null,
   "metadata": {},
   "outputs": [],
   "source": [
    "# solution to calculate cycle number\n",
    "\n",
    "def create_cycle_number_array(voltages):\n",
    "    cycle_number_list = []\n",
    "    cycle_number = 1\n",
    "    previous_voltage = 0\n",
    "    for voltage in voltages:\n",
    "        if voltage == 0 and previous_voltage > 0:\n",
    "            cycle_number += 1\n",
    "        cycle_number_list.append(cycle_number)\n",
    "        previous_voltage = voltage\n",
    "    return cycle_number_list"
   ]
  },
  {
   "cell_type": "code",
   "execution_count": null,
   "metadata": {},
   "outputs": [],
   "source": [
    "def test_create_cycle_number_array():\n",
    "    assert create_cycle_number_array([0, 5]) == [1, 1]\n",
    "    assert create_cycle_number_array([0, 0, 0, 5, 0, 0, 0, 5]) == [1, 1, 1, 1, 2, 2, 2, 2]\n",
    "    assert create_cycle_number_array([0, 5, 0, 5, 0, 5]) == [1, 1, 2, 2, 3, 3]\n",
    "    assert create_cycle_number_array([]) == []\n",
    "    print(\"success\")\n",
    "\n",
    "test_create_cycle_number_array()"
   ]
  },
  {
   "cell_type": "markdown",
   "metadata": {},
   "source": [
    "### 1D Ising-like Model\n"
   ]
  },
  {
   "cell_type": "code",
   "execution_count": null,
   "metadata": {},
   "outputs": [],
   "source": [
    "# solutions to 1D Ising\n",
    "import numpy as np\n",
    "import random\n",
    "\n",
    "def random_index_of(lattice):\n",
    "    return random.randint(0, len(lattice) - 1)\n",
    "\n",
    "def sum_neighbors(index, lattice):\n",
    "    l_neighbor, r_neighbor = (index - 1) % len(lattice), (index + 1) % len(lattice)\n",
    "    sum_of_neighbors = lattice[l_neighbor] + lattice[r_neighbor]\n",
    "    return sum_of_neighbors\n",
    "\n",
    "def sample_value(sum_of_neighbors):\n",
    "    probability = random.uniform(0, 1)\n",
    "    if sum_of_neighbors == 1:\n",
    "        if probability < 0.5:\n",
    "            return 1\n",
    "        else:\n",
    "            return 0\n",
    "    elif sum_of_neighbors == 0:\n",
    "        if probability < 0.9:\n",
    "            return 0\n",
    "        else:\n",
    "            return 1\n",
    "    else:\n",
    "        if probability < 0.9:\n",
    "            return 1\n",
    "        else:\n",
    "            return 0\n",
    "\n",
    "# an alternative version of sample_value\n",
    "# the lesson here is that finding the right function, random.choices here, can save you A LOT of time\n",
    "def sample_value(sum_of_neighbors):\n",
    "    probabilities = {0: [0.9, 0.1], 1: [0.5, 0.5], 2: [0.1, 0.9]}\n",
    "    sum_of_neighbors = random.choices([0, 1], weights=probabilities[sum_of_neighbors])[0]\n",
    "    return sum_of_neighbors\n",
    "\n",
    "def perturb_lattice(lattice):\n",
    "    lattice = np.copy(lattice) # side effects are bad!\n",
    "    index = random_index_of(lattice)\n",
    "    sum_of_neighbors = sum_neighbors(index, lattice)\n",
    "    new_value = sample_value(sum_of_neighbors)\n",
    "    lattice[index] = new_value\n",
    "    return lattice"
   ]
  },
  {
   "cell_type": "code",
   "execution_count": null,
   "metadata": {},
   "outputs": [],
   "source": [
    "import numpy as np\n",
    "import random\n",
    "\n",
    "def test_perturb_lattice():\n",
    "    possible_lists = [[0, 0, 1, 0], [1, 1, 1, 0], [1, 0, 0, 0], [1, 0, 1, 1], [1, 0, 1, 0]]\n",
    "    lattice_list = list(perturb_lattice([1, 0, 1, 0]))\n",
    "    assert lattice_list in possible_lists\n",
    "    print(\"success\")\n",
    "\n",
    "test_perturb_lattice()"
   ]
  },
  {
   "cell_type": "markdown",
   "metadata": {},
   "source": [
    "### Drawing Shapes"
   ]
  },
  {
   "cell_type": "code",
   "execution_count": null,
   "metadata": {},
   "outputs": [],
   "source": [
    "def draw_shapes(shape_name):\n",
    "    \"\"\"Draws either a rectangle or triangle depending on user input.\"\"\"\n",
    "    \n",
    "    shape_name = shape_name.lower() # makes input lower case so that Square does the same as square\n",
    "    \n",
    "    if shape_name == \"rectangle\":\n",
    "        side_length = 10\n",
    "        edge = \"*\" * side_length\n",
    "        middle = \"*\" + \" \" * (side_length-2) + \"*\"\n",
    "        print(edge)\n",
    "        for i in range(side_length - 2):\n",
    "            print(middle)\n",
    "        print(edge)\n",
    "    elif shape_name == \"triangle\":\n",
    "        side_length = 10\n",
    "        print(\"*\")\n",
    "        for i in range(1, side_length -1):\n",
    "            line = \"*\" + \" \" * i + \"*\"\n",
    "            print(line)\n",
    "        print(\"*\" * (side_length + 1))\n",
    "    else:\n",
    "        print(\"Sorry can't do that shape\")\n",
    "            "
   ]
  },
  {
   "cell_type": "code",
   "execution_count": null,
   "metadata": {},
   "outputs": [
    {
     "name": "stdout",
     "output_type": "stream",
     "text": [
      "**********\n",
      "*        *\n",
      "*        *\n",
      "*        *\n",
      "*        *\n",
      "*        *\n",
      "*        *\n",
      "*        *\n",
      "*        *\n",
      "**********\n",
      "*\n",
      "* *\n",
      "*  *\n",
      "*   *\n",
      "*    *\n",
      "*     *\n",
      "*      *\n",
      "*       *\n",
      "*        *\n",
      "***********\n"
     ]
    }
   ],
   "source": [
    "draw_shapes(\"Rectangle\")\n",
    "draw_shapes(\"triangle\")"
   ]
  }
 ],
 "metadata": {
  "kernelspec": {
   "display_name": "Python 3 (ipykernel)",
   "language": "python",
   "name": "python3"
  },
  "language_info": {
   "codemirror_mode": {
    "name": "ipython",
    "version": 3
   },
   "file_extension": ".py",
   "mimetype": "text/x-python",
   "name": "python",
   "nbconvert_exporter": "python",
   "pygments_lexer": "ipython3",
   "version": "3.9.6"
  }
 },
 "nbformat": 4,
 "nbformat_minor": 4
}
