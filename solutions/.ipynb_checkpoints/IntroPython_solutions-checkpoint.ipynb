{
 "cells": [
  {
   "cell_type": "markdown",
   "id": "4e4635de",
   "metadata": {},
   "source": [
    "# Solutions for Introduction to Python\n",
    "#### Authors : Sonja Bumann, Rachel Clune, Orion Cohen, Aditya Singh, Harrison Tuckman, Sam Oaks-Leaf\n",
    "\n",
    "Attribution : content in this notebook is adapted from the Software Carpentries [Programming with Python](https://swcarpentry.github.io/python-novice-inflammation/) workshop, licensed under [CC BY 4.0](https://creativecommons.org/licenses/by/4.0/)"
   ]
  },
  {
   "cell_type": "markdown",
   "id": "d0e5c29a",
   "metadata": {},
   "source": [
    "## Lists"
   ]
  },
  {
   "cell_type": "markdown",
   "id": "65ed6c70",
   "metadata": {},
   "source": [
    "### Problems\n",
    "\n",
    "`1`  Use slicing to access the last four characters of bromine. The desired output is \\`mine\\`.\n"
   ]
  },
  {
   "cell_type": "code",
   "execution_count": 6,
   "id": "85072360",
   "metadata": {},
   "outputs": [
    {
     "name": "stdout",
     "output_type": "stream",
     "text": [
      "mine\n"
     ]
    }
   ],
   "source": [
    "list_for_slicing = [['fluorine', 'F'],\n",
    "                    ['chlorine', 'Cl'],\n",
    "                    ['bromine', 'Br'],\n",
    "                    ['iodine', 'I'],\n",
    "                    ['astatine', 'At']]\n",
    "\n",
    "# We would like to access index 2 of main list, index 0 of that sublist, and index 3 through the end of the string.\n",
    "desired_slice = list_for_slicing[2][0][3:] \n",
    "print(desired_slice)"
   ]
  },
  {
   "cell_type": "markdown",
   "id": "55784667",
   "metadata": {},
   "source": [
    "`2`      \\`\\+\\` usually means addition, but when used on strings or lists, it means “concatenate”. Given that, what do you think the multiplication operator \\`\\*\\` does on lists? In particular, what will the value of `repeats` be?\n"
   ]
  },
  {
   "cell_type": "markdown",
   "id": "a4d9c6bf",
   "metadata": {},
   "source": [
    "Multiplication in the context of strings and lists is repeated concatenation (i.e. repeated addition for lists and strings)"
   ]
  },
  {
   "cell_type": "markdown",
   "id": "4e24d997",
   "metadata": {},
   "source": [
    "## Arrays"
   ]
  },
  {
   "cell_type": "markdown",
   "id": "ed64b53e",
   "metadata": {},
   "source": [
    "`1` Create a 1D array of length 5 full of zeros using the `zeros()` function found in `numpy`, you might want to read the documentation found here: \n",
    "\n",
    "https://numpy.org/doc/stable/reference/generated/numpy.zeros.html \n",
    "\n",
    "Once you have your array of zeros, use a for loop to fill the array with \\[3, 5, 7, 9, 11\\]. Note that each value is defined as $2x+3$ where $x$ is $0,1,2,3,4$. You might find the built in function `range` also helpful.\n",
    "\n"
   ]
  },
  {
   "cell_type": "code",
   "execution_count": 11,
   "id": "8be8e325",
   "metadata": {},
   "outputs": [
    {
     "name": "stdout",
     "output_type": "stream",
     "text": [
      "[ 3.  5.  7.  9. 11.]\n"
     ]
    }
   ],
   "source": [
    "import numpy as np\n",
    "\n",
    "five_zeros = np.zeros(5) # Creates the initial array\n",
    "\n",
    "for x in range(5): # Loops through all indices\n",
    "    five_zeros[x] = 2 * x + 3 # Assigns appropriate value\n",
    "\n",
    "print(five_zeros)\n"
   ]
  },
  {
   "cell_type": "markdown",
   "id": "ec571d5f",
   "metadata": {},
   "source": [
    "`2` Now let's try doing something similar for a 2D function. The way to access the member of a 2D array is `my_array[index1][index2].`Write code that creates a 4x4 matrix where each cell of the matrix satisfies the equation $z=2x^2 + y^3 -9$, where x and y are integers from 0 to 3. For example, `my_array[1][2]` should be \n",
    "\n",
    "$$\n",
    "2*1^2 + 2^3-9\n",
    "$$\n",
    "\n",
    "$$\n",
    "=1\n",
    "$$\n",
    "\n"
   ]
  },
  {
   "cell_type": "code",
   "execution_count": 12,
   "id": "d160740d",
   "metadata": {},
   "outputs": [
    {
     "name": "stdout",
     "output_type": "stream",
     "text": [
      "[[-9. -8. -1. 18.]\n",
      " [-7. -6.  1. 20.]\n",
      " [-1.  0.  7. 26.]\n",
      " [ 9. 10. 17. 36.]]\n"
     ]
    }
   ],
   "source": [
    "matrix = np.zeros((4, 4)) # Creates the initial array\n",
    "\n",
    "# Loops through both dimensions\n",
    "for x in range(4):\n",
    "    for y in range(4):\n",
    "        matrix[x][y] = 2 * x ** 2 + y ** 3 - 9 # Assigns appropriate value\n",
    "\n",
    "print(matrix)"
   ]
  },
  {
   "cell_type": "markdown",
   "id": "9ab13e5f",
   "metadata": {},
   "source": [
    "# Dictionaries"
   ]
  },
  {
   "cell_type": "markdown",
   "id": "fe2c476f",
   "metadata": {},
   "source": [
    "`1` Create an analagous dictionary to \"li_dict\", but for berylium. Print the occupation of the 2s shell of berylium using your dictionary.\n"
   ]
  },
  {
   "cell_type": "code",
   "execution_count": 18,
   "id": "5a324f73",
   "metadata": {},
   "outputs": [
    {
     "name": "stdout",
     "output_type": "stream",
     "text": [
      "Shell occupation of 2s = 2\n"
     ]
    }
   ],
   "source": [
    "be_dict = {\n",
    "    \"#\": 4,\n",
    "    \"MW\": 9.01,\n",
    "    \"Code\": \"Be\",\n",
    "    \"Shells\": [\"1s\", \"2s\"],\n",
    "    \"Shell Occupation\": {\"1s\": 2, \"2s\": 2}\n",
    "}\n",
    "print(\"Shell occupation of 2s =\", be_dict[\"Shell Occupation\"][\"2s\"])"
   ]
  },
  {
   "cell_type": "markdown",
   "id": "6d681c4a",
   "metadata": {},
   "source": [
    "# For Loops"
   ]
  },
  {
   "cell_type": "markdown",
   "id": "ce60758d",
   "metadata": {},
   "source": [
    "`1` Given the following loop:"
   ]
  },
  {
   "cell_type": "code",
   "execution_count": 21,
   "id": "6a8be849",
   "metadata": {},
   "outputs": [
    {
     "name": "stdout",
     "output_type": "stream",
     "text": [
      "o\n",
      "x\n",
      "y\n",
      "g\n",
      "e\n",
      "n\n"
     ]
    }
   ],
   "source": [
    "word = 'oxygen'\n",
    "for char in word:\n",
    "    print(char)"
   ]
  },
  {
   "cell_type": "markdown",
   "id": "bc05bff0",
   "metadata": {},
   "source": [
    "How many times is the body of the loop executed?"
   ]
  },
  {
   "cell_type": "markdown",
   "id": "7c928d95",
   "metadata": {},
   "source": [
    "6, once for every character in oxygen. Strings are treated just like lists in this context."
   ]
  },
  {
   "cell_type": "markdown",
   "id": "381a34e1",
   "metadata": {},
   "source": [
    "`2` Write a loop that calculates the sum of elements in a list by adding each element and printing the final value, so `[124, 402, 36]`  prints 562"
   ]
  },
  {
   "cell_type": "markdown",
   "id": "3da88d9b",
   "metadata": {},
   "source": [
    "The best way to do tasks like these is by defining a function! But we don't get to that until a bit later so,"
   ]
  },
  {
   "cell_type": "code",
   "execution_count": 24,
   "id": "03c8c440",
   "metadata": {},
   "outputs": [
    {
     "name": "stdout",
     "output_type": "stream",
     "text": [
      "562\n"
     ]
    }
   ],
   "source": [
    "some_array = [124, 402, 36]\n",
    "\n",
    "total = 0 # Initialize a counting variable\n",
    "for number in some_array:\n",
    "    total += number # Add each value in the array to it\n",
    "\n",
    "print(total)"
   ]
  },
  {
   "cell_type": "markdown",
   "id": "8fb2ef44",
   "metadata": {},
   "source": [
    "`3` Write a loop that calculates the same result as \\`5 \\*\\* 3\\` using multiplication \\(and without exponentiation\\)."
   ]
  },
  {
   "cell_type": "code",
   "execution_count": 27,
   "id": "da7c6a6e",
   "metadata": {},
   "outputs": [
    {
     "name": "stdout",
     "output_type": "stream",
     "text": [
      "125\n"
     ]
    }
   ],
   "source": [
    "base = 5\n",
    "exponent = 3\n",
    "\n",
    "total = 1 # Initialize again, but start with 1 because we are doing multiplication\n",
    "for i in range(exponent):\n",
    "    total *= base # Multiply the base repeatedly\n",
    "\n",
    "print(total)"
   ]
  },
  {
   "cell_type": "markdown",
   "id": "17644f5a",
   "metadata": {},
   "source": [
    "# Conditionals"
   ]
  },
  {
   "cell_type": "markdown",
   "id": "c6046b42",
   "metadata": {},
   "source": [
    "`1` Write some conditions that print `True` if the variable `a` is within 10% of the variable `b` and `False` otherwise."
   ]
  },
  {
   "cell_type": "code",
   "execution_count": 48,
   "id": "f5cfabac",
   "metadata": {},
   "outputs": [
    {
     "name": "stdout",
     "output_type": "stream",
     "text": [
      "False\n",
      "False\n",
      "False\n"
     ]
    }
   ],
   "source": [
    "a = -9.89\n",
    "b = -11\n",
    "\n",
    "# One way is to use python's built-in absolute value function.\n",
    "if abs((a - b) / b) <= 0.10:\n",
    "    print(True)\n",
    "else:\n",
    "    print(False)\n",
    "    \n",
    "# Could also do\n",
    "deviation = abs((a - b)/b)\n",
    "if deviation >= -0.10 and deviation <= 0.10:\n",
    "    print(True)\n",
    "else:\n",
    "    print(False)\n",
    "\n",
    "# Most efficiently\n",
    "print(abs((a - b)/b) <= 0.10)\n"
   ]
  },
  {
   "cell_type": "markdown",
   "id": "149f1a6e",
   "metadata": {},
   "source": [
    "`2 True` and `False` booleans are not the only values in Python that are true and false. In fact, any value can be used in an `if` or `elif`. After reading and running the code below, explain what the rule is for which values are considered true and which are considered false.\n"
   ]
  },
  {
   "cell_type": "code",
   "execution_count": 50,
   "id": "ae1e2f60",
   "metadata": {},
   "outputs": [
    {
     "name": "stdout",
     "output_type": "stream",
     "text": [
      "word is true\n",
      "non-empty list is true\n",
      "one is true\n"
     ]
    }
   ],
   "source": [
    "if '':\n",
    "    print('empty string is true')\n",
    "if 'word':\n",
    "    print('word is true')\n",
    "if []:\n",
    "    print('empty list is true')\n",
    "if [1, 2, 3]:\n",
    "    print('non-empty list is true')\n",
    "if 0:\n",
    "    print('zero is true')\n",
    "if 1:\n",
    "    print('one is true')"
   ]
  },
  {
   "cell_type": "markdown",
   "id": "9f04ab84",
   "metadata": {},
   "source": [
    "Anything that would be considered zero in the context of its own version of addition evaluates to False. Everything else evaluates to True. For example, if you add \"\" to \"word\", you get \"word\", so \"\" will evaluate as False."
   ]
  },
  {
   "cell_type": "markdown",
   "id": "7ad93642",
   "metadata": {},
   "source": [
    "# Functions"
   ]
  },
  {
   "cell_type": "markdown",
   "id": "12321dd1",
   "metadata": {},
   "source": [
    "`1` Fill in the blanks to create a function that takes a list of numbers as an argument and returns the first negative value in the list. What does your function do if the list is empty? What if the list has no negative numbers?"
   ]
  },
  {
   "cell_type": "code",
   "execution_count": 52,
   "id": "2f83a5c7",
   "metadata": {},
   "outputs": [],
   "source": [
    "def first_negative(values):\n",
    "    for v in values:\n",
    "        if v < 0:\n",
    "            return v"
   ]
  },
  {
   "cell_type": "markdown",
   "id": "698af2e7",
   "metadata": {},
   "source": [
    "Let's test to see what happens with different inputs."
   ]
  },
  {
   "cell_type": "code",
   "execution_count": 59,
   "id": "7821506a",
   "metadata": {},
   "outputs": [
    {
     "name": "stdout",
     "output_type": "stream",
     "text": [
      "-1\n",
      "-2\n",
      "None\n",
      "None\n"
     ]
    },
    {
     "ename": "TypeError",
     "evalue": "'<' not supported between instances of 'str' and 'int'",
     "output_type": "error",
     "traceback": [
      "\u001b[0;31m---------------------------------------------------------------------------\u001b[0m",
      "\u001b[0;31mTypeError\u001b[0m                                 Traceback (most recent call last)",
      "Cell \u001b[0;32mIn[59], line 5\u001b[0m\n\u001b[1;32m      3\u001b[0m \u001b[38;5;28mprint\u001b[39m( first_negative( [\u001b[38;5;241m1\u001b[39m, \u001b[38;5;241m0\u001b[39m, \u001b[38;5;241m1\u001b[39m, \u001b[38;5;241m0\u001b[39m, \u001b[38;5;241m1\u001b[39m] ) )\n\u001b[1;32m      4\u001b[0m \u001b[38;5;28mprint\u001b[39m( first_negative( [] ) )\n\u001b[0;32m----> 5\u001b[0m \u001b[38;5;28mprint\u001b[39m( \u001b[43mfirst_negative\u001b[49m\u001b[43m(\u001b[49m\u001b[43m \u001b[49m\u001b[43m[\u001b[49m\u001b[38;5;124;43m\"\u001b[39;49m\u001b[38;5;124;43mseven\u001b[39;49m\u001b[38;5;124;43m\"\u001b[39;49m\u001b[43m,\u001b[49m\u001b[43m \u001b[49m\u001b[38;5;124;43m\"\u001b[39;49m\u001b[38;5;124;43mate\u001b[39;49m\u001b[38;5;124;43m\"\u001b[39;49m\u001b[43m,\u001b[49m\u001b[43m \u001b[49m\u001b[38;5;124;43m\"\u001b[39;49m\u001b[38;5;124;43mnine\u001b[39;49m\u001b[38;5;124;43m\"\u001b[39;49m\u001b[43m]\u001b[49m\u001b[43m \u001b[49m\u001b[43m)\u001b[49m )\n",
      "Cell \u001b[0;32mIn[52], line 3\u001b[0m, in \u001b[0;36mfirst_negative\u001b[0;34m(values)\u001b[0m\n\u001b[1;32m      1\u001b[0m \u001b[38;5;28;01mdef\u001b[39;00m \u001b[38;5;21mfirst_negative\u001b[39m(values):\n\u001b[1;32m      2\u001b[0m     \u001b[38;5;28;01mfor\u001b[39;00m v \u001b[38;5;129;01min\u001b[39;00m values:\n\u001b[0;32m----> 3\u001b[0m         \u001b[38;5;28;01mif\u001b[39;00m \u001b[43mv\u001b[49m\u001b[43m \u001b[49m\u001b[38;5;241;43m<\u001b[39;49m\u001b[43m \u001b[49m\u001b[38;5;241;43m0\u001b[39;49m:\n\u001b[1;32m      4\u001b[0m             \u001b[38;5;28;01mreturn\u001b[39;00m v\n",
      "\u001b[0;31mTypeError\u001b[0m: '<' not supported between instances of 'str' and 'int'"
     ]
    }
   ],
   "source": [
    "print( first_negative( [1, 0, -1, 0, 1] ) )\n",
    "print( first_negative( [2, 855000, 0, -2, -855500] ) )\n",
    "print( first_negative( [1, 0, 1, 0, 1] ) )\n",
    "print( first_negative( [] ) )\n",
    "print( first_negative( [\"seven\", \"ate\", \"nine\"] ) )"
   ]
  },
  {
   "cell_type": "markdown",
   "id": "5d94d7c4",
   "metadata": {},
   "source": [
    "Our function works appropriately for the edge cases of having no negative numbers, or even an ampty list, returing the None keyword. None is commonly used to denote a null result so this makes sense, but we should be aware that our fucntion does not return a normal numberi n these cases. If the user were to input a list that contains non-numeric values, the function throws an error. We would have to decide based on the use case whether it is appropriate to leave the function as is or to change it such that this error message will be avoided."
   ]
  },
  {
   "cell_type": "markdown",
   "id": "30323684",
   "metadata": {},
   "source": [
    "`2` Write a function `rescale` that takes an array as input and returns a corresponding array of values scaled to lie in the range 0.0 to 1.0. \\(Hint: If `L` and `H` are the lowest and highest values in the original array, then the replacement for a value v should be `(v-L) / (H-L)`.\\)\n"
   ]
  },
  {
   "cell_type": "code",
   "execution_count": 74,
   "id": "4ee7ad60",
   "metadata": {},
   "outputs": [],
   "source": [
    "def rescale(array_to_scale):\n",
    "    # len, max, and min are built-ins that give the length minimum and maximum of an array\n",
    "    \n",
    "    length = len(array_to_scale)\n",
    "    scaled_array = []\n",
    "    \n",
    "    if length > 0: # check that input is non-empty\n",
    "        lowest = min(array_to_scale)\n",
    "        spread = max(array_to_scale) - lowest\n",
    "\n",
    "        if spread > 0: # check that input has a finite range\n",
    "            scaled_array = np.zeros(length) \n",
    "            for i in range(length):\n",
    "                scaled_array[i] = (array_to_scale[i] - lowest) / spread\n",
    "        else:\n",
    "            scaled_array = [1.0] * length # This is a choice, all zeros might also be appropriate depending on context\n",
    "            \n",
    "    return scaled_array"
   ]
  },
  {
   "cell_type": "code",
   "execution_count": 75,
   "id": "82865056",
   "metadata": {},
   "outputs": [
    {
     "name": "stdout",
     "output_type": "stream",
     "text": [
      "[0.         0.2962963  0.33333333 0.55555556 1.        ]\n",
      "[1.0, 1.0, 1.0, 1.0]\n",
      "[1.0]\n",
      "[]\n"
     ]
    }
   ],
   "source": [
    "# Tests\n",
    "print( rescale( [-5, 3, 4, 10, 22] ) )\n",
    "print( rescale( [8, 8, 8, 8] ) )\n",
    "print( rescale( [7] ) )\n",
    "print( rescale( [] ) )"
   ]
  },
  {
   "cell_type": "markdown",
   "id": "19d6faf8",
   "metadata": {},
   "source": [
    "`3` In mathematics, a dynamical system is a system in which a function describes the time dependence of a point in a geometrical space. A canonical example of a dynamical system is the logistic map, a growth model that computes a new population density \\(between 0 and 1\\) based on the current density. In the model, time takes discrete values 0, 1, 2, …\n",
    "\n",
    "Define a function called `logistic_map` that takes two inputs: `x`, representing the current population \\(at time `t`\\), and a parameter `r = 1`. This function should return a value representing the state of the system \\(population\\) at time `t + 1`, using the mapping function:\n",
    "\n",
    "`f(t+1) = r * f(t) * [1 - f(t)]`\n"
   ]
  },
  {
   "cell_type": "code",
   "execution_count": 76,
   "id": "8740e2bc",
   "metadata": {},
   "outputs": [],
   "source": [
    "def logistic_map(x, r):\n",
    "    return r * x * (1 - x)"
   ]
  },
  {
   "cell_type": "markdown",
   "id": "361f2874",
   "metadata": {},
   "source": [
    "\n",
    "Using a `for` or `while` loop, iterate the `logistic_map` function defined in part 1, starting from an initial population of 0.5, for a period of time `t_final = 10`. Store the intermediate results in a list so that after the loop terminates you have accumulated a sequence of values representing the state of the logistic map at times `t = [0,1,...,t_final]` \\(11 values in total\\). Print this list to see the evolution of the population.\n",
    "\n",
    "Encapsulate the logic of your loop into a function called `iterate` that takes the initial population as its first input, the parameter `t_final` as its second input and the parameter r as its third input. The function should return the list of values representing the state of the logistic map at times `t = [0,1,...,t_final]`. Run this function for periods `t_final = 100` and 1000 and print some of the values. Is the population trending toward a steady state?"
   ]
  },
  {
   "cell_type": "code",
   "execution_count": 85,
   "id": "4eb582e1",
   "metadata": {},
   "outputs": [],
   "source": [
    "def iterate(p_initial, t_final, r):\n",
    "    time_series = np.zeros(t_final)\n",
    "    time_series[0] = p_initial # Set initial condition\n",
    "    \n",
    "    for i in range(1, t_final):\n",
    "        time_series[i] = logistic_map(time_series[i-1], r) # Update step by step\n",
    "    \n",
    "    return time_series"
   ]
  },
  {
   "cell_type": "code",
   "execution_count": 78,
   "id": "f02b617e",
   "metadata": {},
   "outputs": [
    {
     "name": "stdout",
     "output_type": "stream",
     "text": [
      "[0.5        0.06945089 0.04005628 0.02831421 0.02194125 0.01792746\n",
      " 0.01516318 0.01314176 0.01159837 0.01038092]\n"
     ]
    }
   ],
   "source": [
    "t_100 = iterate(0.5, 100, 1)\n",
    "\n",
    "print(t_100[::10])"
   ]
  },
  {
   "cell_type": "code",
   "execution_count": 107,
   "id": "4b4dfc2a",
   "metadata": {},
   "outputs": [
    {
     "name": "stdout",
     "output_type": "stream",
     "text": [
      "[0.5        0.06945089 0.04005628 0.02831421 0.02194125 0.01792746\n",
      " 0.01516318 0.01314176 0.01159837 0.01038092 0.00939578 0.00858209\n",
      " 0.00789858 0.00731625 0.00681416 0.00637674 0.00599225 0.0056516\n",
      " 0.0053477  0.00507488 0.00482861 0.00460519 0.00440157 0.00421523\n",
      " 0.00404406 0.00388627 0.00374035 0.00360501 0.00347914 0.00336178\n",
      " 0.00325209 0.00314934 0.00305289 0.00296219 0.00287672 0.00279606\n",
      " 0.0027198  0.0026476  0.00257913 0.00251413 0.00245232 0.00239348\n",
      " 0.0023374  0.00228389 0.00223278 0.00218391 0.00213714 0.00209233\n",
      " 0.00204936 0.00200812 0.00196851 0.00193044 0.00189381 0.00185855\n",
      " 0.00182457 0.00179182 0.00176022 0.00172972 0.00170026 0.00167179\n",
      " 0.00164426 0.00161762 0.00159182 0.00156684 0.00154263 0.00151916\n",
      " 0.0014964  0.0014743  0.00145285 0.00143202 0.00141177 0.00139209\n",
      " 0.00137295 0.00135433 0.00133621 0.00131857 0.00130139 0.00128465\n",
      " 0.00126833 0.00125243 0.00123692 0.00122178 0.00120702 0.00119261\n",
      " 0.00117854 0.00116479 0.00115137 0.00113824 0.00112542 0.00111288\n",
      " 0.00110062 0.00108862 0.00107689 0.0010654  0.00105416 0.00104315\n",
      " 0.00103237 0.00102181 0.00101147 0.00100133]\n"
     ]
    }
   ],
   "source": [
    "t_1000 = iterate(0.5, 1000, 1)\n",
    "\n",
    "print(t_1000[::10])"
   ]
  },
  {
   "cell_type": "code",
   "execution_count": 112,
   "id": "975d3abe",
   "metadata": {},
   "outputs": [
    {
     "name": "stdout",
     "output_type": "stream",
     "text": [
      "[5.00000000e-001 1.91922699e-004 1.87352657e-007 1.82961511e-010\n",
      " 1.78673350e-013 1.74485694e-016 1.70396185e-019 1.66402525e-022\n",
      " 1.62502466e-025 1.58693814e-028 1.54974428e-031 1.51342215e-034\n",
      " 1.47795131e-037 1.44331183e-040 1.40948421e-043 1.37644942e-046\n",
      " 1.34418889e-049 1.31268446e-052 1.28191842e-055 1.25187346e-058\n",
      " 1.22253267e-061 1.19387956e-064 1.16589801e-067 1.13857228e-070\n",
      " 1.11188699e-073 1.08582714e-076 1.06037806e-079 1.03552545e-082\n",
      " 1.01125533e-085 9.87554029e-089 9.64408232e-092 9.41804914e-095\n",
      " 9.19731361e-098 8.98175157e-101 8.77124177e-104 8.56566579e-107\n",
      " 8.36490800e-110 8.16885547e-113 7.97739792e-116 7.79042765e-119\n",
      " 7.60783951e-122 7.42953077e-125 7.25540114e-128 7.08535268e-131\n",
      " 6.91928972e-134 6.75711887e-137 6.59874890e-140 6.44409072e-143\n",
      " 6.29305734e-146 6.14556381e-149 6.00152716e-152 5.86086637e-155\n",
      " 5.72350231e-158 5.58935773e-161 5.45835715e-164 5.33042691e-167\n",
      " 5.20549503e-170 5.08349124e-173 4.96434691e-176 4.84799503e-179\n",
      " 4.73437015e-182 4.62340835e-185 4.51504721e-188 4.40922580e-191\n",
      " 4.30588457e-194 4.20496540e-197 4.10641152e-200 4.01016750e-203\n",
      " 3.91617920e-206 3.82439375e-209 3.73475952e-212 3.64722609e-215\n",
      " 3.56174423e-218 3.47826585e-221 3.39674400e-224 3.31713281e-227\n",
      " 3.23938751e-230 3.16346436e-233 3.08932067e-236 3.01691471e-239\n",
      " 2.94620578e-242 2.87715408e-245 2.80972078e-248 2.74386795e-251\n",
      " 2.67955854e-254 2.61675639e-257 2.55542616e-260 2.49553336e-263\n",
      " 2.43704430e-266 2.37992607e-269 2.32414656e-272 2.26967437e-275\n",
      " 2.21647888e-278 2.16453015e-281 2.11379898e-284 2.06425681e-287\n",
      " 2.01587580e-290 1.96862871e-293 1.92248897e-296 1.87743064e-299]\n"
     ]
    }
   ],
   "source": [
    "# Keep scrolling if you don't care to play around\n",
    "t_1000 = iterate(0.5, 1000, 0.5)\n",
    "\n",
    "print(t_1000[::10])\n",
    "\n"
   ]
  },
  {
   "cell_type": "code",
   "execution_count": 103,
   "id": "40127bcd",
   "metadata": {},
   "outputs": [
    {
     "name": "stdout",
     "output_type": "stream",
     "text": [
      "[0.99       0.24726581 0.33318401 0.33333319 0.33333333 0.33333333\n",
      " 0.33333333 0.33333333 0.33333333 0.33333333 0.33333333 0.33333333\n",
      " 0.33333333 0.33333333 0.33333333 0.33333333 0.33333333 0.33333333\n",
      " 0.33333333 0.33333333 0.33333333 0.33333333 0.33333333 0.33333333\n",
      " 0.33333333 0.33333333 0.33333333 0.33333333 0.33333333 0.33333333\n",
      " 0.33333333 0.33333333 0.33333333 0.33333333 0.33333333 0.33333333\n",
      " 0.33333333 0.33333333 0.33333333 0.33333333 0.33333333 0.33333333\n",
      " 0.33333333 0.33333333 0.33333333 0.33333333 0.33333333 0.33333333\n",
      " 0.33333333 0.33333333 0.33333333 0.33333333 0.33333333 0.33333333\n",
      " 0.33333333 0.33333333 0.33333333 0.33333333 0.33333333 0.33333333\n",
      " 0.33333333 0.33333333 0.33333333 0.33333333 0.33333333 0.33333333\n",
      " 0.33333333 0.33333333 0.33333333 0.33333333 0.33333333 0.33333333\n",
      " 0.33333333 0.33333333 0.33333333 0.33333333 0.33333333 0.33333333\n",
      " 0.33333333 0.33333333 0.33333333 0.33333333 0.33333333 0.33333333\n",
      " 0.33333333 0.33333333 0.33333333 0.33333333 0.33333333 0.33333333\n",
      " 0.33333333 0.33333333 0.33333333 0.33333333 0.33333333 0.33333333\n",
      " 0.33333333 0.33333333 0.33333333 0.33333333]\n"
     ]
    }
   ],
   "source": [
    "t_1000 = iterate(0.99, 1000, 1.5)\n",
    "\n",
    "print(t_1000[::10])\n"
   ]
  },
  {
   "cell_type": "code",
   "execution_count": 102,
   "id": "76317fde",
   "metadata": {},
   "outputs": [
    {
     "name": "stdout",
     "output_type": "stream",
     "text": [
      "[0.5 0.5 0.5 0.5 0.5 0.5 0.5 0.5 0.5 0.5 0.5 0.5 0.5 0.5 0.5 0.5 0.5 0.5\n",
      " 0.5 0.5 0.5 0.5 0.5 0.5 0.5 0.5 0.5 0.5 0.5 0.5 0.5 0.5 0.5 0.5 0.5 0.5\n",
      " 0.5 0.5 0.5 0.5 0.5 0.5 0.5 0.5 0.5 0.5 0.5 0.5 0.5 0.5 0.5 0.5 0.5 0.5\n",
      " 0.5 0.5 0.5 0.5 0.5 0.5 0.5 0.5 0.5 0.5 0.5 0.5 0.5 0.5 0.5 0.5 0.5 0.5\n",
      " 0.5 0.5 0.5 0.5 0.5 0.5 0.5 0.5 0.5 0.5 0.5 0.5 0.5 0.5 0.5 0.5 0.5 0.5\n",
      " 0.5 0.5 0.5 0.5 0.5 0.5 0.5 0.5 0.5 0.5]\n"
     ]
    }
   ],
   "source": [
    "t_1000 = iterate(0.5, 1000, 2)\n",
    "\n",
    "print(t_1000[::10])"
   ]
  },
  {
   "cell_type": "code",
   "execution_count": 101,
   "id": "cef9f7eb",
   "metadata": {},
   "outputs": [
    {
     "name": "stdout",
     "output_type": "stream",
     "text": [
      "[0.5        0.59994786 0.59999995 0.6        0.6        0.6\n",
      " 0.6        0.6        0.6        0.6        0.6        0.6\n",
      " 0.6        0.6        0.6        0.6        0.6        0.6\n",
      " 0.6        0.6        0.6        0.6        0.6        0.6\n",
      " 0.6        0.6        0.6        0.6        0.6        0.6\n",
      " 0.6        0.6        0.6        0.6        0.6        0.6\n",
      " 0.6        0.6        0.6        0.6        0.6        0.6\n",
      " 0.6        0.6        0.6        0.6        0.6        0.6\n",
      " 0.6        0.6        0.6        0.6        0.6        0.6\n",
      " 0.6        0.6        0.6        0.6        0.6        0.6\n",
      " 0.6        0.6        0.6        0.6        0.6        0.6\n",
      " 0.6        0.6        0.6        0.6        0.6        0.6\n",
      " 0.6        0.6        0.6        0.6        0.6        0.6\n",
      " 0.6        0.6        0.6        0.6        0.6        0.6\n",
      " 0.6        0.6        0.6        0.6        0.6        0.6\n",
      " 0.6        0.6        0.6        0.6        0.6        0.6\n",
      " 0.6        0.6        0.6        0.6       ]\n"
     ]
    }
   ],
   "source": [
    "t_1000 = iterate(0.5, 1000, 2.5)\n",
    "\n",
    "print(t_1000[::10])"
   ]
  },
  {
   "cell_type": "code",
   "execution_count": 109,
   "id": "0dd5675f",
   "metadata": {},
   "outputs": [
    {
     "name": "stdout",
     "output_type": "stream",
     "text": [
      "[0.5        0.602573   0.61800592 0.62581392 0.63075546 0.63424726\n",
      " 0.63688462 0.63896806 0.64066805 0.64208956 0.64330121 0.64435007\n",
      " 0.64526961 0.64608441 0.64681295 0.64746945 0.64806505 0.64860861\n",
      " 0.6491073  0.64956696 0.64999244 0.65038776 0.65075633 0.65110103\n",
      " 0.65142434 0.65172836 0.65201496 0.65228572 0.65254206 0.65278521\n",
      " 0.65301626 0.65323618 0.65344585 0.65364602 0.6538374  0.65402061\n",
      " 0.65419622 0.65436473 0.65452662 0.65468229 0.65483215 0.65497655\n",
      " 0.6551158  0.65525021 0.65538005 0.65550557 0.655627   0.65574458\n",
      " 0.65585848 0.65596891 0.65607603 0.65618001 0.65628099 0.65637912\n",
      " 0.65647453 0.65656734 0.65665767 0.65674562 0.65683131 0.65691482\n",
      " 0.65699624 0.65707567 0.65715317 0.65722883 0.65730272 0.65737491\n",
      " 0.65744546 0.65751443 0.65758188 0.65764786 0.65771243 0.65777564\n",
      " 0.65783754 0.65789816 0.65795755 0.65801576 0.65807282 0.65812876\n",
      " 0.65818364 0.65823747 0.65829029 0.65834213 0.65839303 0.658443\n",
      " 0.65849209 0.65854031 0.65858768 0.65863424 0.65868001 0.658725\n",
      " 0.65876925 0.65881277 0.65885557 0.65889769 0.65893913 0.65897992\n",
      " 0.65902008 0.65905961 0.65909853 0.65913687]\n"
     ]
    }
   ],
   "source": [
    "asymptote = iterate(0.5, 1000, 3)\n",
    "\n",
    "print(asymptote[::10])"
   ]
  },
  {
   "cell_type": "code",
   "execution_count": 110,
   "id": "d0c81d8d",
   "metadata": {},
   "outputs": [
    {
     "name": "stdout",
     "output_type": "stream",
     "text": [
      "[0.5        0.38281968 0.50088421 0.38281968 0.50088421 0.38281968\n",
      " 0.50088421 0.38281968 0.50088421 0.38281968 0.50088421 0.38281968\n",
      " 0.50088421 0.38281968 0.50088421 0.38281968 0.50088421 0.38281968\n",
      " 0.50088421 0.38281968 0.50088421 0.38281968 0.50088421 0.38281968\n",
      " 0.50088421 0.38281968 0.50088421 0.38281968 0.50088421 0.38281968\n",
      " 0.50088421 0.38281968 0.50088421 0.38281968 0.50088421 0.38281968\n",
      " 0.50088421 0.38281968 0.50088421 0.38281968 0.50088421 0.38281968\n",
      " 0.50088421 0.38281968 0.50088421 0.38281968 0.50088421 0.38281968\n",
      " 0.50088421 0.38281968 0.50088421 0.38281968 0.50088421 0.38281968\n",
      " 0.50088421 0.38281968 0.50088421 0.38281968 0.50088421 0.38281968\n",
      " 0.50088421 0.38281968 0.50088421 0.38281968 0.50088421 0.38281968\n",
      " 0.50088421 0.38281968 0.50088421 0.38281968 0.50088421 0.38281968\n",
      " 0.50088421 0.38281968 0.50088421 0.38281968 0.50088421 0.38281968\n",
      " 0.50088421 0.38281968 0.50088421 0.38281968 0.50088421 0.38281968\n",
      " 0.50088421 0.38281968 0.50088421 0.38281968 0.50088421 0.38281968\n",
      " 0.50088421 0.38281968 0.50088421 0.38281968 0.50088421 0.38281968\n",
      " 0.50088421 0.38281968 0.50088421 0.38281968]\n"
     ]
    }
   ],
   "source": [
    "oscillation = iterate(0.5, 1000, 3.5)\n",
    "\n",
    "print(oscillation[::10])"
   ]
  },
  {
   "cell_type": "code",
   "execution_count": 111,
   "id": "84d3ecc5",
   "metadata": {},
   "outputs": [
    {
     "name": "stdout",
     "output_type": "stream",
     "text": [
      "[0.5        0.45783464 0.33141823 0.51513556 0.42101016 0.33467205\n",
      " 0.57547811 0.35861511 0.39532455 0.59320102 0.43172244 0.40916675\n",
      " 0.39153964 0.59935783 0.5385477  0.32434506 0.34729472 0.51656891\n",
      " 0.41406605 0.33493229 0.57879208 0.33576386 0.58777305 0.35085641\n",
      " 0.46630203 0.32899295 0.45364586 0.349724   0.48164186 0.40479343\n",
      " 0.46824848 0.33494397 0.57893522 0.33496946 0.57924594 0.33332143\n",
      " 0.55450311 0.39849923 0.5666361  0.41634377 0.32502795 0.35881446\n",
      " 0.3943628  0.59739279 0.50713317 0.4494708  0.37458723 0.43242372\n",
      " 0.41251123 0.34794126 0.50714781 0.44943658 0.37480131 0.43445641\n",
      " 0.41981728 0.32905135 0.45519644 0.34188097 0.58469859 0.32821904\n",
      " 0.43312827 0.41545516 0.32760785 0.41719268 0.3240337  0.34275005\n",
      " 0.57631724 0.35223911 0.4489772  0.37767407 0.46505669 0.32632761\n",
      " 0.38583556 0.56253751 0.42375361 0.35276741 0.44283895 0.41156923\n",
      " 0.35820903 0.39741124 0.5778895  0.34123267 0.58994383 0.37812086\n",
      " 0.47028647 0.34316211 0.57186496 0.38654858 0.56952983 0.4022343\n",
      " 0.51342594 0.42863563 0.39016207 0.59500362 0.46453864 0.32550475\n",
      " 0.36801963 0.38987618 0.5936951  0.44063476]\n"
     ]
    }
   ],
   "source": [
    "chaos = iterate(0.5, 1000, 3.6)\n",
    "\n",
    "print(chaos[::10])"
   ]
  },
  {
   "cell_type": "markdown",
   "id": "632290a4",
   "metadata": {},
   "source": [
    "# More Challenging Problems!"
   ]
  },
  {
   "cell_type": "markdown",
   "id": "c421c0cb",
   "metadata": {},
   "source": [
    "`1` This question will rely on the documentation for input and output operations which can be found here: https://docs.python.org/3/tutorial/inputoutput.html#tut-files.\n",
    "Write a function called even_copy() that will take in the name of a file as an input and copies only the even lines of that file to an output file. The input file has name \"data.txt\" the output file should be named \"copied_data.txt\" and should live in the same directory as the input file. It would be good practice to ensure that your function can handle edge cases such as, when the input file does not exist (see https://docs.python.org/3/library/os.path.html), when the input file has nothing in it, or when the output file already exists. Test your code as much as you can by creating files and passing their names into your function. Bonus: Can you think of a way to make your function more general so that the user of the function can specify which lines they would like to copy of the input file?"
   ]
  },
  {
   "cell_type": "code",
   "execution_count": 17,
   "id": "6eebd392",
   "metadata": {},
   "outputs": [
    {
     "name": "stdout",
     "output_type": "stream",
     "text": [
      "Output already exists\n",
      "\n",
      "Output already exists\n",
      "\n",
      "Input does not exist\n",
      "\n",
      "Output already exists\n",
      "\n",
      "Output already exists\n",
      "\n"
     ]
    }
   ],
   "source": [
    "import os\n",
    "def even_copy(path_to_file):\n",
    "    \"\"\"Input: path to a data file. If path does not exist, returns error message. Assumes file ends in \".txt\".\n",
    "    Result: Creates an output file and writes only even lines of inupt file to new file which it places in\n",
    "    output_dir. If output file already exists, returns error message\"\"\"\n",
    "    \n",
    "    # First check existence of input and output + appropriate format\n",
    "    \n",
    "    if not os.path.isfile(path_to_file):\n",
    "        err = \"Input does not exist\\n\"\n",
    "        return err\n",
    "    \n",
    "    if not path_to_file.endswith('.txt'):\n",
    "        err = \"Input does not end in .txt\\n\"\n",
    "        return err\n",
    "    \n",
    "    output_file = path_to_file.replace('.txt','_copied.txt')\n",
    "    \n",
    "    if os.path.isfile(output_file):\n",
    "        err = \"Output already exists\\n\"\n",
    "        return err\n",
    "    \n",
    "    # Now can do the copying\n",
    "    input_stream = open(path_to_file, 'r')\n",
    "    file_contents = input_stream.read()\n",
    "    input_stream.close()\n",
    "    \n",
    "    # Split contents by line\n",
    "    file_contents = file_contents.split(\"\\n\")\n",
    "    num_lines = len(file_contents)\n",
    "    \n",
    "    # Write out even lines\n",
    "    with open(output_file, 'w') as output_stream: \n",
    "        for i in range(0, num_lines, 2):\n",
    "            output_stream.write(file_contents[i] + \"\\n\")\n",
    "    \n",
    "    return \"Completed copy of \" + path_to_file + \" succesfully.\\n\"\n",
    "\n",
    "# Tests\n",
    "print(even_copy(\"SampleFiles/ExampleOddEvenFile.txt\"))\n",
    "print(even_copy(\"SampleFiles/ExampleOddEvenFile.txt\")) # Should print output exists error \n",
    "print(even_copy(\"SampleFiles/NonexistentFile.txt\")) # Should print input does not exist error \n",
    "print(even_copy(\"SampleFiles/EmptyFile.txt\"))\n",
    "print(even_copy(\"SampleFiles/SingleLine.txt\"))\n"
   ]
  },
  {
   "cell_type": "markdown",
   "id": "4cb2ebc2",
   "metadata": {},
   "source": [
    "`2` Using the documentation, https://docs.python.org/3/library/os.path.html and https://docs.python.org/3/library/stdtypes.html#string-methods, write a function called directory_search() that will search through a given directory, and copy all of the files in that directory whose names begin with a given key phrase, placing the copies in a new directory.  If the inputted directory name was \"data_dir/\", then name the new directory as \"subset_of_data_dir/\". Make sure to consider edge cases and test your code!"
   ]
  },
  {
   "cell_type": "code",
   "execution_count": 19,
   "id": "96d8c788",
   "metadata": {},
   "outputs": [
    {
     "name": "stdout",
     "output_type": "stream",
     "text": [
      "Input does not exist\n",
      "Input does not exist\n",
      "\n",
      "Input does not exist\n",
      "Input does not exist\n",
      "\n",
      "Input does not exist\n",
      "\n",
      "\n"
     ]
    }
   ],
   "source": [
    "def directory_search(data_dir, key_phrase):\n",
    "    \"\"\"Searches through the directory data_dir and copies files beginning with key_phrase to new directory\n",
    "    If input directory does not exist, returns error message. Note, there are probably a bunch of ways to do\n",
    "    this one, here is one straightfoward approach. Using terminal commands would for instance make this much simpler\"\"\"\n",
    "    \n",
    "    # Check existence and format\n",
    "    if not os.path.isdir(data_dir):\n",
    "        err = \"Input does not exist\\n\"\n",
    "        return err\n",
    "    \n",
    "    # Add forward slash at the end if not already included\n",
    "    if not data_dir.endswith(\"/\"):\n",
    "        data_dir += \"/\"\n",
    "    \n",
    "    # Search through all files identifying those that begin with key_phrase\n",
    "    message=\"\"\n",
    "    for file in os.scandir(data_dir):\n",
    "        if file.name.startswith(key_phrase):\n",
    "            # Do the copying\n",
    "            message += even_copy(file.name)\n",
    "    return message  \n",
    "            \n",
    "            \n",
    "# Tests\n",
    "print(directory_search(\"SampleFiles/\", \"key_phrase\"))\n",
    "print(directory_search(\"SampleFiles\", \"key_phrase\")) # Should print output exists error \n",
    "print(directory_search(\"NonExistentFiles/\", \"key_phrase\")) # Should print input does not exist error \n",
    "print(directory_search(\"SampleFiles/\", \"non_existent_key_phrase\")) # Should do nothing\n",
    "    "
   ]
  },
  {
   "cell_type": "code",
   "execution_count": null,
   "id": "12a804e1",
   "metadata": {},
   "outputs": [],
   "source": []
  }
 ],
 "metadata": {
  "kernelspec": {
   "display_name": "Python 3 (ipykernel)",
   "language": "python",
   "name": "python3"
  },
  "language_info": {
   "codemirror_mode": {
    "name": "ipython",
    "version": 3
   },
   "file_extension": ".py",
   "mimetype": "text/x-python",
   "name": "python",
   "nbconvert_exporter": "python",
   "pygments_lexer": "ipython3",
   "version": "3.9.15"
  }
 },
 "nbformat": 4,
 "nbformat_minor": 5
}
