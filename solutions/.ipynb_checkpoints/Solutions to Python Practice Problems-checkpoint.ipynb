{
 "cells": [
  {
   "cell_type": "markdown",
   "metadata": {},
   "source": [
    "# Solutions to Python Practice Problems"
   ]
  },
  {
   "cell_type": "markdown",
   "metadata": {},
   "source": [
    "### Simple SMILES"
   ]
  },
  {
   "cell_type": "code",
   "execution_count": null,
   "metadata": {},
   "outputs": [],
   "source": [
    "# solutions to number of bonds\n",
    "\n",
    "def number_of_bonds(smile):\n",
    "    counts = {\"C\": 0, \"O\": 0, \"N\": 0, \"F\": 0, \"=\": 0, \"#\": 0}\n",
    "    for character in smile:\n",
    "        counts[character] += 1\n",
    "    non_terminal_bonds = counts[\"C\"] * 3 + counts[\"N\"] * 2 + counts[\"O\"]\n",
    "    bond_order_overcount = counts[\"=\"] * 2 + counts[\"#\"] * 4\n",
    "    n_bonds = non_terminal_bonds - bond_order_overcount + 1\n",
    "    return n_bonds\n",
    "\n",
    "def number_of_bonds(smile):\n",
    "    bonds = {\"C\": 3, \"N\": 2, \"O\": 1, \"F\": 0, \"=\": -2, \"#\": -4}\n",
    "    bond_count = 1\n",
    "    for character in smile:\n",
    "        bond_count += bonds[character]\n",
    "    return bond_count"
   ]
  },
  {
   "cell_type": "code",
   "execution_count": null,
   "metadata": {},
   "outputs": [],
   "source": [
    "def test_number_of_bonds():\n",
    "    # this function should print success\n",
    "    assert number_of_bonds(\"CO\") == 5\n",
    "    assert number_of_bonds(\"CFFCFF\") == 7\n",
    "    assert number_of_bonds(\"CCCCO\") == 14\n",
    "    assert number_of_bonds(\"COO=O\") == 5\n",
    "    assert number_of_bonds(\"CCN\") == 9\n",
    "    assert number_of_bonds(\"CCCC#N\") == 11\n",
    "    print(\"success\")\n",
    "\n",
    "test_number_of_bonds()"
   ]
  },
  {
   "cell_type": "markdown",
   "metadata": {},
   "source": [
    "### Calculate Cycle Number"
   ]
  },
  {
   "cell_type": "code",
   "execution_count": null,
   "metadata": {},
   "outputs": [],
   "source": [
    "# solution to calculate cycle number\n",
    "\n",
    "def create_cycle_number_array(voltages):\n",
    "    cycle_number_list = []\n",
    "    cycle_number = 1\n",
    "    previous_voltage = 0\n",
    "    for voltage in voltages:\n",
    "        if voltage == 0 and previous_voltage > 0:\n",
    "            cycle_number += 1\n",
    "        cycle_number_list.append(cycle_number)\n",
    "        previous_voltage = voltage\n",
    "    return cycle_number_list"
   ]
  },
  {
   "cell_type": "code",
   "execution_count": null,
   "metadata": {},
   "outputs": [],
   "source": [
    "def test_create_cycle_number_array():\n",
    "    assert create_cycle_number_array([0, 5]) == [1, 1]\n",
    "    assert create_cycle_number_array([0, 0, 0, 5, 0, 0, 0, 5]) == [1, 1, 1, 1, 2, 2, 2, 2]\n",
    "    assert create_cycle_number_array([0, 5, 0, 5, 0, 5]) == [1, 1, 2, 2, 3, 3]\n",
    "    assert create_cycle_number_array([]) == []\n",
    "    print(\"success\")\n",
    "\n",
    "test_create_cycle_number_array()"
   ]
  },
  {
   "cell_type": "markdown",
   "metadata": {},
   "source": [
    "### 1D Ising-like Model\n"
   ]
  },
  {
   "cell_type": "code",
   "execution_count": null,
   "metadata": {},
   "outputs": [],
   "source": [
    "# solutions to 1D Ising\n",
    "import numpy as np\n",
    "import random\n",
    "\n",
    "def random_index_of(lattice):\n",
    "    return random.randint(0, len(lattice) - 1)\n",
    "\n",
    "def sum_neighbors(index, lattice):\n",
    "    l_neighbor, r_neighbor = (index - 1) % len(lattice), (index + 1) % len(lattice)\n",
    "    sum_of_neighbors = lattice[l_neighbor] + lattice[r_neighbor]\n",
    "    return sum_of_neighbors\n",
    "\n",
    "def sample_value(sum_of_neighbors):\n",
    "    probability = random.uniform(0, 1)\n",
    "    if sum_of_neighbors == 1:\n",
    "        if probability < 0.5:\n",
    "            return 1\n",
    "        else:\n",
    "            return 0\n",
    "    elif sum_of_neighbors == 0:\n",
    "        if probability < 0.9:\n",
    "            return 0\n",
    "        else:\n",
    "            return 1\n",
    "    else:\n",
    "        if probability < 0.9:\n",
    "            return 1\n",
    "        else:\n",
    "            return 0\n",
    "\n",
    "# an alternative version of sample_value\n",
    "# the lesson here is that finding the right function, random.choices here, can save you A LOT of time\n",
    "def sample_value(sum_of_neighbors):\n",
    "    probabilities = {0: [0.9, 0.1], 1: [0.5, 0.5], 2: [0.1, 0.9]}\n",
    "    sum_of_neighbors = random.choices([0, 1], weights=probabilities[sum_of_neighbors])[0]\n",
    "    return sum_of_neighbors\n",
    "\n",
    "def perturb_lattice(lattice):\n",
    "    lattice = np.copy(lattice) # side effects are bad!\n",
    "    index = random_index_of(lattice)\n",
    "    sum_of_neighbors = sum_neighbors(index, lattice)\n",
    "    new_value = sample_value(sum_of_neighbors)\n",
    "    lattice[index] = new_value\n",
    "    return lattice"
   ]
  },
  {
   "cell_type": "code",
   "execution_count": null,
   "metadata": {},
   "outputs": [],
   "source": [
    "import numpy as np\n",
    "import random\n",
    "\n",
    "def test_perturb_lattice():\n",
    "    possible_lists = [[0, 0, 1, 0], [1, 1, 1, 0], [1, 0, 0, 0], [1, 0, 1, 1], [1, 0, 1, 0]]\n",
    "    lattice_list = list(perturb_lattice([1, 0, 1, 0]))\n",
    "    assert lattice_list in possible_lists\n",
    "    print(\"success\")\n",
    "\n",
    "test_perturb_lattice()"
   ]
  }
 ],
 "metadata": {
  "kernelspec": {
   "display_name": "Python 3 (ipykernel)",
   "language": "python",
   "name": "python3"
  },
  "language_info": {
   "codemirror_mode": {
    "name": "ipython",
    "version": 3
   },
   "file_extension": ".py",
   "mimetype": "text/x-python",
   "name": "python",
   "nbconvert_exporter": "python",
   "pygments_lexer": "ipython3",
   "version": "3.9.15"
  }
 },
 "nbformat": 4,
 "nbformat_minor": 4
}
