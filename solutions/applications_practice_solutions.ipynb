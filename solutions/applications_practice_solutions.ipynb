{
 "cells": [
  {
   "cell_type": "markdown",
   "metadata": {
    "collapsed": false
   },
   "source": [
    "# Solutions to Applications of Python Practice Problems"
   ]
  },
  {
   "cell_type": "code",
   "execution_count": 5,
   "metadata": {},
   "outputs": [],
   "source": [
    "import numpy as np\n",
    "import matplotlib.pyplot as plt"
   ]
  },
  {
   "cell_type": "markdown",
   "metadata": {
    "collapsed": false
   },
   "source": [
    "### \\(1\\) Orthonormal Basis Vectors\n",
    "\n",
    "###### <span style='font-size:medium'>The following problem is intended to give you practice using numpy arrays and writing functions. You will write a function that finds the dot product between two vectors. After getting this practice, we will see how we can simplify the problem by using existing functions in the numpy library. </span>\n",
    "\n"
   ]
  },
  {
   "cell_type": "markdown",
   "metadata": {
    "collapsed": false
   },
   "source": [
    "##### \\(1\\) Verify that the vectors  $v_1$ = \\[3, \\-1, 0\\] and $v_2$ = \\[1, 3, \\-8/7\\] are orthogonal by writing a function that finds their dot product.\n",
    "\n"
   ]
  },
  {
   "cell_type": "markdown",
   "metadata": {
    "collapsed": false
   },
   "source": [
    "##### \\(2\\) Write a function that normalizes $v_1$ and $v_2$ and print the normalized vectors.\n",
    "\n"
   ]
  },
  {
   "cell_type": "code",
   "execution_count": 2,
   "metadata": {
    "collapsed": false
   },
   "outputs": [
    {
     "name": "stdout",
     "output_type": "stream",
     "text": [
      "Dot product:\n",
      " 0.0\n",
      "Numpy dot product:\n",
      " 0.0\n"
     ]
    }
   ],
   "source": [
    "# Part 1\n",
    "\n",
    "# Define a function that takes in two vectors (labeled a and b) as arguments (inputs).\n",
    "\n",
    "def dot(a,b):  # define a function that takes in a and b as arguments (which we will assume are arrays when we call them in the function)\n",
    "    total = 0                 # initialize a running total that we will add the element-wise products to\n",
    "    for i in range((len(a))): # loop over the number of elements in a and b (they must be equal)\n",
    "        total += a[i] * b[i]  # multiply the elements of the vectors together and add them to the running sum\n",
    "    return total              # returns the sum of the products\n",
    "\n",
    "# Use numpy.array to create our 2 vectors (if you forget the syntax you can always google it!)\n",
    "\n",
    "v1 = np.array([3,-1,0])\n",
    "v2 = np.array([1,3,-8/7])\n",
    "\n",
    "# Assign a new variable that stores the return value of our function evaluating our dot product\n",
    "\n",
    "d = dot(v1, v2)\n",
    "\n",
    "# Print our dot product (what value do we expect to get?)\n",
    "\n",
    "print(\"Dot product:\\n\", d)      # the \\n part makes it so it prints d on a new line, which looks much nicer\n",
    "\n",
    "# Instead of writing a function (which is excellent practice!), we\n",
    "# can simplify our code to one line by using the numpy.dot function\n",
    "\n",
    "nd = np.dot(v1, v2)\n",
    "print(\"Numpy dot product:\\n\", nd)"
   ]
  },
  {
   "cell_type": "code",
   "execution_count": 3,
   "metadata": {
    "collapsed": false
   },
   "outputs": [
    {
     "name": "stdout",
     "output_type": "stream",
     "text": [
      "Normalized v1:\n",
      " [ 0.9486833  -0.31622777  0.        ]\n",
      "Normalized v2:\n",
      " [ 0.2974015   0.89220451 -0.33988743]\n",
      "Length of v1:\n",
      " 0.9999999999999999\n",
      "Length of v2:\n",
      " 1.0\n"
     ]
    }
   ],
   "source": [
    "# Part 2\n",
    "      \n",
    "# Define a function that takes in a vector \"a\" as the argument. Notice how you can use the same variables as in the function above because \"a\" is a local variable (the rest of the code does not know about \"a\" outside of the function).\n",
    "\n",
    "# Write a function that takes in an arbitrary vector and returns it in normalized form\n",
    "\n",
    "def normalized(a):\n",
    "    sum_of_squares = 0                          # initialize a running sum that sums the squares of the vector elements\n",
    "    for i in range(len(a)):                     # loop over all of the elements of vector a\n",
    "        sum_of_squares += a[i]**2               # add the squares of the vector elements to the running sum\n",
    "    length = np.sqrt(sum_of_squares)            # get the length of the vector by taking the square root of the sum (try using \"np.sqrt()\"!)\n",
    "    return a/length                             # return the vector a divided by it's norm (length)\n",
    "\n",
    "# Print the normalized vectors v1 and v2\n",
    "\n",
    "print(\"Normalized v1:\\n\", normalized(v1))\n",
    "print(\"Normalized v2:\\n\", normalized(v2))\n",
    "\n",
    "# Use the np.linalg.norm function to verify that our vectors are normalized (have length of 1)\n",
    "\n",
    "print(\"Length of v1:\\n\", np.linalg.norm(normalized(v1)))\n",
    "print(\"Length of v2:\\n\", np.linalg.norm(normalized(v2)))"
   ]
  },
  {
   "cell_type": "markdown",
   "metadata": {
    "collapsed": false
   },
   "source": [
    "### \\(2\\) Solving for an eigensystem in Python\n",
    "\n",
    "##### <span style='font-size:medium'>In the Linear Algebra 3: Matrix Algebra section, we cover an example of finding the eigenvectors and eigenvalues of a 3x3 matrix by solving the characteristic equation. This requires finding the roots of a cubic polynomial. As you can imagine, extending this approach to higher matrix dimensions becomes impractical by hand, which is why we make computers do the work for us! For this problem, we will build a 7x7 matrix and find its eigenvectors/values using the numpy linalg library. This type of problem will show up countless times in CHEM221A\\-\\-you will often be asked to build a Hamiltonian matrix in a certain basis and subsequently find its stationary states \\(eigenvectors\\) and corresponding energy levels.</span>\n",
    "\n",
    "##### ​\n",
    "\n"
   ]
  },
  {
   "cell_type": "code",
   "execution_count": 4,
   "metadata": {
    "collapsed": false
   },
   "outputs": [],
   "source": [
    "import numpy as np"
   ]
  },
  {
   "cell_type": "markdown",
   "metadata": {
    "collapsed": false
   },
   "source": [
    "##### \\(1\\) Generate a random symmetric 7x7 matrix with elements between 0\\-1. There are a lot of ways to do this but for this case we can just generate a random matrix and then overwrite the lower triangular matrix to make it symmetric.\n",
    "\n"
   ]
  },
  {
   "cell_type": "markdown",
   "metadata": {
    "collapsed": false
   },
   "source": [
    "##### \\(2\\) Prove that the vector v = \\[ 3, \\-3, 7 \\] is an eigenvector of the matrix\n",
    "\n",
    "```\n",
    "   A = [ 5,  2, 0 ]\n",
    "       [ 2,  5, 0 ]\n",
    "       [-3,  4, 6 ]\n",
    "```\n",
    "\n",
    "##### By writing your own function that performs matrix\\-vector multiplication! What is the corresponding eigenvalue?\n",
    "\n"
   ]
  },
  {
   "cell_type": "code",
   "execution_count": 6,
   "metadata": {
    "collapsed": false
   },
   "outputs": [
    {
     "name": "stdout",
     "output_type": "stream",
     "text": [
      "Matrix O that we will diagonalize:\n",
      " [[0.52818978 0.47659799 0.16903867 0.98596298 0.02337051 0.31167813\n",
      "  0.34891573]\n",
      " [0.47659799 0.38353306 0.87341259 0.86874367 0.08531003 0.22331131\n",
      "  0.31295448]\n",
      " [0.16903867 0.87341259 0.97597026 0.55422874 0.13323424 0.66845275\n",
      "  0.59135517]\n",
      " [0.98596298 0.86874367 0.55422874 0.10376842 0.26300479 0.58470635\n",
      "  0.62792025]\n",
      " [0.02337051 0.08531003 0.13323424 0.26300479 0.02427942 0.94830213\n",
      "  0.20578124]\n",
      " [0.31167813 0.22331131 0.66845275 0.58470635 0.94830213 0.88042831\n",
      "  0.23832746]\n",
      " [0.34891573 0.31295448 0.59135517 0.62792025 0.20578124 0.23832746\n",
      "  0.90634876]]\n",
      "Eigenvalues of O:\n",
      " [ 3.41960148 -0.93159763 -0.69891352 -0.29481186  1.08365683  0.7011619\n",
      "  0.5234208 ]\n",
      "Eigenvectors of O:\n",
      " [[-0.32778771 -0.35786256  0.27406931  0.42748656  0.29626864  0.63687993\n",
      "  -0.11506392]\n",
      " [-0.38332991 -0.39753931 -0.17863617 -0.64656946  0.27829609 -0.11048646\n",
      "  -0.39421028]\n",
      " [-0.46844469  0.08048536  0.29203918  0.42621785  0.0285843  -0.6661288\n",
      "  -0.25017695]\n",
      " [-0.43296565  0.81182118 -0.12189649 -0.14338164  0.17099422  0.29021295\n",
      "  -0.06787851]\n",
      " [-0.19936055  0.00365859  0.7148342  -0.40372209 -0.50186558  0.12158264\n",
      "   0.14003972]\n",
      " [-0.40581888 -0.16371018 -0.52160516  0.17557166 -0.69926937  0.1272221\n",
      "  -0.02120246]\n",
      " [-0.36644251 -0.14680245 -0.09884138 -0.05626973  0.25273183 -0.15250496\n",
      "   0.8626134 ]]\n"
     ]
    }
   ],
   "source": [
    "# Part 1\n",
    "\n",
    "O = np.random.rand(7,7)\n",
    "\n",
    "for i in range(len(O)):                                     # Loop over the number of rows of the matrix\n",
    "    for j in range(i+1, len(O)):                            # Loop over the appropriate number of columns (Be careful here, it's tricky!)\n",
    "        O[j,i] = O[i,j]                                   # Overwrite the appropriate elements of O to get the new symmetric matrix\n",
    "\n",
    "print(\"Matrix O that we will diagonalize:\\n\", O)\n",
    "\n",
    "# Find the eigenvalues and eigenvectors of this matrix using numpy.linalg.eig and print the result.\n",
    "\n",
    "evals, evecs = np.linalg.eig(O)    # np.linalg.eig returns the eigenvalues and eigenvectors of your matrix. **Read the documentation to figure out                                          # how to properly call this function\n",
    "\n",
    "print(\"Eigenvalues of O:\\n\", evals)\n",
    "print(\"Eigenvectors of O:\\n\", evecs)\n"
   ]
  },
  {
   "cell_type": "code",
   "execution_count": 8,
   "metadata": {
    "collapsed": false
   },
   "outputs": [
    {
     "name": "stdout",
     "output_type": "stream",
     "text": [
      "A matrix:\n",
      " [[ 5  2  0]\n",
      " [ 2  5  0]\n",
      " [-3  4  6]]\n",
      "Vector v:\n",
      " [ 3 -3  7]\n",
      "New vector:\n",
      " [ 9 -9 21]\n"
     ]
    }
   ],
   "source": [
    "# Part 2\n",
    "\n",
    "# Generate your vector and matrix here\n",
    "\n",
    "A = np.array([[5,2,0],[2,5,0],[-3,4,6]])\n",
    "v = np.array([3, -3, 7])\n",
    "\n",
    "print(\"A matrix:\\n\", A)\n",
    "print(\"Vector v:\\n\", v)\n",
    "\n",
    "# Define a function that takes in an arbitary matrix A and vector v and returns the matrix-vector product\n",
    "\n",
    "def mat_vec_mul(A,v):                           # define function that takes in arbitrary matrix A and vector v as arguments\n",
    "    b = np.zeros_like(v)                        # create empty np array with same dimensions as vector v\n",
    "    for i in range(len(v)):                     # loop over length (number of rows) of vector v (remember this must be equal to the # of columns of A!)\n",
    "        for j in range(len(v)):                 # loop over number of columns of A\n",
    "            b[i] += A[i][j] * v[j]              # save matrix-vector product to new array\n",
    "    return b\n",
    "\n",
    "print(\"New vector:\\n\", mat_vec_mul(A,v))\n",
    "\n"
   ]
  },
  {
   "cell_type": "code",
   "execution_count": null,
   "metadata": {},
   "outputs": [],
   "source": [
    "# Check your answer using the np.matmul function\n",
    "np.matmul(A, v)"
   ]
  },
  {
   "cell_type": "markdown",
   "metadata": {},
   "source": [
    "### \\(3\\) Compute definite integrals using the Trapezoid method and Midpoint method\n",
    "\n",
    "##### Computing definite integrals is one of the first things you'll encounter in both 221A as well as 220A, when you are required to normalize wavefunctions and probability distributions. While this method is covered in the lectures, we want to go over it again, as it is required for the next question on computing fourier series.\n",
    "\n",
    "\n"
   ]
  },
  {
   "cell_type": "markdown",
   "metadata": {},
   "source": [
    "##### \\(1\\) Write a function trapezoid\\_integral\\(x,y\\) that takes a uniformly distributed array of values \\(x\\) within the limits of the definite integral and the values of the function at those points \\(y\\), and returns the definite integral using the trapezoid method. Using this method compute the definite integral of $e^{-x}$ from $0$ to $5$ . You might find this [link](https://math.libretexts.org/Courses/Mount_Royal_University/MATH_2200%3A_Calculus_for_Scientists_II/2%3A_Techniques_of_Integration/2.5%3A_Numerical_Integration_-_Midpoint%2C_Trapezoid%2C_Simpson%27s_rule) to be useful\n",
    "\n"
   ]
  },
  {
   "cell_type": "markdown",
   "metadata": {},
   "source": [
    "##### \\(2\\) Write a function midpoint\\_integral\\(f,a,b\\) that takes a reference to a function \\(f\\), the lower limit \\(a\\), and the upper limit \\(b\\) of the definite integral, and computes the definite integral compute using the midpoint method.  Using this method compute the definite integral of $e^{-x}$ from $0$ to $5$ , and compare the numerical error between the midpoint method and trapezoid method. You might find this [link](https://math.libretexts.org/Courses/Mount_Royal_University/MATH_2200%3A_Calculus_for_Scientists_II/2%3A_Techniques_of_Integration/2.5%3A_Numerical_Integration_-_Midpoint%2C_Trapezoid%2C_Simpson%27s_rule) to be useful.\n",
    "\n"
   ]
  },
  {
   "cell_type": "code",
   "execution_count": null,
   "metadata": {},
   "outputs": [
    {
     "name": "stdout",
     "output_type": "stream",
     "text": [
      "The definite integral of exp(-x) from 0 to 5 computed using the trapezoid method is  0.9934731751290443\n",
      "The numerical error for the trapezoid method is 0.00021112212812979259\n"
     ]
    }
   ],
   "source": [
    "import numpy as np\n",
    "\n",
    "# Part 1\n",
    "\n",
    "#Write a function that returns exp(-x)\n",
    "def func(x):\n",
    "    return np.exp(-x)\n",
    "\n",
    "#Define the limits of integration\n",
    "a = 0            #lower limit\n",
    "b = 5            #upper limit\n",
    "\n",
    "x = np.linspace(0,5,100) #generate a linespace of 100 uniformly distributed points between a and b\n",
    "y = func(x)              #compute the value of the function at those points\n",
    "\n",
    "def trapezoid_integral(x,y):\n",
    "    Npoints = x.shape[0]             #contains the length of the array x\n",
    "    integrand = 0                    #holder for the integral\n",
    "    dx = x[1] - x[0]                 #compute the spacing between each point\n",
    "    for i in range(Npoints-1):       #loop over all the values\n",
    "        integrand += 0.5 * (y[i] + y[i+1]) * dx     #sum over all the values\n",
    "    return integrand\n",
    "\n",
    "trapz_integral = trapezoid_integral(x,y)         #call the function\n",
    "exact_integral = 1-np.exp(-5)               #exact integral\n",
    "trapz_error    = np.abs(exact_integral-trapz_integral)         #compute the numerical error of integration\n",
    "\n",
    "print(\"The definite integral of exp(-x) from 0 to 5 computed using the trapezoid method is \", trapz_integral)\n",
    "print(\"The numerical error for the trapezoid method is\", trapz_error)"
   ]
  },
  {
   "cell_type": "code",
   "execution_count": null,
   "metadata": {},
   "outputs": [
    {
     "name": "stdout",
     "output_type": "stream",
     "text": [
      "The definite integral of exp(-x) from 0 to 5 computed using the trapezoid method is  0.9931564953024992\n",
      "The numerical error for the trapezoid method is 0.00010555769841535945\n"
     ]
    }
   ],
   "source": [
    "# Part 2\n",
    "\n",
    "#Write a function that returns exp(-x)\n",
    "def func(x):\n",
    "    return np.exp(-x)\n",
    "\n",
    "#Define the limits of integration\n",
    "a = 0            #lower limit\n",
    "b = 5            #upper limit\n",
    "\n",
    "def midpoint_integral(f,a,b):\n",
    "    Npoints = 100\n",
    "    x = np.linspace(a,b,100)                  #generate a linespace of 100 uniformly distributed points between a and b\n",
    "    dx = x[1] - x[0]                 #compute the spacing between each point\n",
    "    integrand = 0          #holder for the integral\n",
    "    for i in range(Npoints-1):           #loop over all values\n",
    "        xmid = 0.5*(x[i] + x[i+1])           #compute the midpoint between each uniformly distributed point\n",
    "        ymid = f(xmid)           #compute the value of the functions at xmid\n",
    "        integrand += dx*ymid     #sum up the value to compute the integral       \n",
    "    return integrand\n",
    "\n",
    "midp_integral = midpoint_integral(func,a,b)         #call the function\n",
    "exact_integral = 1-np.exp(-5)               #exact integral\n",
    "midp_error    = np.abs(midp_integral - exact_integral)         #compute the numerical error of integration\n",
    "\n",
    "print(\"The definite integral of exp(-x) from 0 to 5 computed using the trapezoid method is \", midp_integral)\n",
    "print(\"The numerical error for the trapezoid method is\", midp_error)"
   ]
  },
  {
   "cell_type": "markdown",
   "metadata": {
    "collapsed": false
   },
   "source": [
    "### BONUS: \\(4\\) Compute the fourier series using numerical integration\n",
    "\n",
    "##### PLEASE FINISH Q. 3\\(1\\) BEFORE ATTEMPTING THIS PROBLEM.\n",
    "\n",
    "##### In this section, we are going to write a function to compute the coefficients as well the fourier series of a couple of functions using the trapezoid\\_integral function that we just constructed.\n",
    "\n"
   ]
  },
  {
   "cell_type": "markdown",
   "metadata": {
    "collapsed": false
   },
   "source": [
    "##### \\(1\\) To start, construct a function fourier\\_coefficients\\(x,y,N\\), that takes in a array with uniformly distributed linespace between a given range \\(x\\), the values of the function at those points \\(y\\), and the order of expansion for the fourier series that is given by $2N+1$ . It returns the coefficients for the sine and cosine functions by computing the relevant definite integral using the trapezoid\\_integral method.\n",
    "\n"
   ]
  },
  {
   "cell_type": "markdown",
   "metadata": {
    "collapsed": false
   },
   "source": [
    "##### \\(2\\) Next, write a function fourier\\_series\\(x,coeffs,N\\) that computes the fourier series expansion upto order $2N+1$ for all values of x , by taking the fourier coefficients as the argument.\n",
    "\n"
   ]
  },
  {
   "cell_type": "markdown",
   "metadata": {
    "collapsed": false
   },
   "source": [
    "##### \\(3\\) Plot the fourier series of for the following functions within the range of \\[ $-\\pi, \\pi$ \\] :\n",
    "\n",
    "##### \\(a\\) $f_1=-x$\n",
    "\n",
    "##### \\(b\\) $f_2 = sin(x + \\frac{1}{2}sin(x))$\n",
    "\n",
    "##### \\(c\\)$f_3 = \\mathrm{sign}(x)$ \\(=1 for $ \\geq $ 0, else = \\-1\\)\n",
    "\n",
    "##### Do so for N = \\[1,2,10,25,50\\] , and compare the differences between the approximations. Why can expansions of certain functions be truncated at lower values of N?\n",
    "\n"
   ]
  },
  {
   "cell_type": "code",
   "execution_count": 37,
   "metadata": {
    "collapsed": false
   },
   "outputs": [],
   "source": [
    "#Part 1\n",
    "#Write a to compute the fourier coefficients\n",
    "def fourier_coeffs(x,y,N):\n",
    "    Npoints = x.shape[0]              #Contains the length of the array x\n",
    "    coeffs = np.zeros((2*N+1))                #Holder for all the coefficients\n",
    "    coeffs[0] = trapezoid_integral(x,y)/2            #Compute the 0th coefficient using numerical integration\n",
    "    for i in range(N):\n",
    "        tmp_cos = np.cos((i+1)*x)*y                #Compute the integrand for the (i+1)th cosine term\n",
    "        tmp_sin = np.sin((i+1)*x)*y               #Compute the integrand for the (i+1)th sin term\n",
    "        coeffs[2*i+1] = trapezoid_integral(x,tmp_cos)/np.pi    #Compute the coefficient corresponding to the (i+1)th cosine term\n",
    "        coeffs[2*i+2] = trapezoid_integral(x,tmp_sin)/np.pi    #Compute the coefficient corresponding to the (i+1)th sine term\n",
    "    return coeffs"
   ]
  },
  {
   "cell_type": "code",
   "execution_count": 38,
   "metadata": {
    "collapsed": false
   },
   "outputs": [],
   "source": [
    "#Part 2\n",
    "def fourier_series(x,coeffs,N):\n",
    "    Npoints  = x.shape[0]              #Contains the length of the array x\n",
    "    fourier  = 0              #Holder for the values of the fourier series\n",
    "    fourier += coeffs[0]              #Add the 0th coeffient\n",
    "    for i in range(N):\n",
    "        fourier += coeffs[2*i+1]*np.cos((i+1)*x)          #Add the (i+1)th cosine term\n",
    "        fourier += coeffs[2*i+2]*np.sin((i+1)*x)          #Add the (i+1)th sine term\n",
    "    return fourier\n",
    "\n",
    "\n"
   ]
  },
  {
   "cell_type": "code",
   "execution_count": 39,
   "metadata": {
    "collapsed": false
   },
   "outputs": [
    {
     "data": {
      "text/plain": [
       "<matplotlib.legend.Legend at 0x7f86e86f2a90>"
      ]
     },
     "execution_count": 39,
     "metadata": {},
     "output_type": "execute_result"
    },
    {
     "data": {
      "image/png": "[encoded data removed]",
      "text/plain": [
       "<Figure size 432x288 with 1 Axes>"
      ]
     },
     "execution_count": 39,
     "metadata": {
      "needs_background": "light"
     },
     "output_type": "execute_result"
    }
   ],
   "source": [
    "#Returns the function f1\n",
    "def f1(x):\n",
    "    return -x\n",
    "\n",
    "N = np.array([1,2,10,25,50])        #All the values of the order of expansion for the fourier series\n",
    "\n",
    "a = -np.pi                          #Lower limit of the fourier series\n",
    "b = np.pi                           #Upper limit of the fourier series\n",
    "Npoints = 100\n",
    "\n",
    "x = np.linspace(a,b,100)            #generate a linespace of 100 uniformly distributed points between a and b\n",
    "y1= f1(x)                           #compute the value of f1 at all points in x\n",
    "\n",
    "fourier1 = np.zeros((N.shape[0],Npoints))    #initialize an 2D array that stores the fourier expansion of f1 for different order of expansion\n",
    "for i in range(N.shape[0]):                  #Loop over all values of N\n",
    "    tmp_coeff = fourier_coeffs(x,y1,N[i])            #Compute the coefficients for fourier expansion\n",
    "    fourier1[i]= fourier_series(x,tmp_coeff,N[i])    #Compute the fourier series\n",
    "\n",
    "#Plot the expansion\n",
    "plt.figure()\n",
    "for i in range(N.shape[0]):\n",
    "    plt.plot(x,fourier1[i],label='N = {:d}'.format(N[i]))\n",
    "\n",
    "#Plot the original function\n",
    "plt.plot(x,y1,'k',label='-x')\n",
    "\n",
    "plt.xlabel('x')\n",
    "plt.ylabel('y')\n",
    "plt.legend()"
   ]
  },
  {
   "cell_type": "code",
   "execution_count": 40,
   "metadata": {
    "collapsed": false
   },
   "outputs": [
    {
     "data": {
      "text/plain": [
       "<matplotlib.legend.Legend at 0x7f87297190a0>"
      ]
     },
     "execution_count": 40,
     "metadata": {},
     "output_type": "execute_result"
    },
    {
     "data": {
      "image/png": "[encoded data removed]",
      "text/plain": [
       "<Figure size 432x288 with 1 Axes>"
      ]
     },
     "execution_count": 40,
     "metadata": {
      "needs_background": "light"
     },
     "output_type": "execute_result"
    }
   ],
   "source": [
    "#Part 3\n",
    "import matplotlib.pyplot as plt\n",
    "\n",
    "#Returns the function f1\n",
    "def f2(x):\n",
    "    return np.sin(x + 0.5 * np.sin(x))\n",
    "\n",
    "N = np.array([1,2,10,25,50])        #All the values of the order of expansion for the fourier series\n",
    "\n",
    "a = -np.pi                          #Lower limit of the fourier series\n",
    "b = np.pi                           #Upper limit of the fourier series\n",
    "Npoints = 100\n",
    "\n",
    "x = np.linspace(a,b,100)            #generate a linespace of 100 uniformly distributed points between a and b\n",
    "y2= f2(x)                           #compute the value of f1 at all points in x\n",
    "\n",
    "fourier2 = np.zeros((N.shape[0],Npoints))           #initialize an 2D array that stores the fourier expansion of f1 for different order of expansion\n",
    "for i in range(N.shape[0]):             #Loop over all values of N\n",
    "    tmp_coeff = fourier_coeffs(x,y2,N[i])      #Compute the coefficients for fourier expansion\n",
    "    fourier2[i]= fourier_series(x,tmp_coeff,N[i])    #Compute the fourier series\n",
    "\n",
    "#Plot the expansion\n",
    "plt.figure()\n",
    "#Plot the original function\n",
    "\n",
    "for i in range(N.shape[0]):\n",
    "    plt.plot(x,fourier2[i],label='N = {:d}'.format(N[i]))\n",
    "plt.plot(x,y2,'k',label='$sin(x + \\\\frac{1}{2} sin(x))$')\n",
    "plt.xlabel('x')\n",
    "plt.ylabel('y')\n",
    "plt.legend()\n"
   ]
  },
  {
   "cell_type": "code",
   "execution_count": 41,
   "metadata": {
    "collapsed": false
   },
   "outputs": [
    {
     "data": {
      "text/plain": [
       "<matplotlib.legend.Legend at 0x7f872980fbb0>"
      ]
     },
     "execution_count": 41,
     "metadata": {},
     "output_type": "execute_result"
    },
    {
     "data": {
      "image/png": "[encoded data removed]",
      "text/plain": [
       "<Figure size 432x288 with 1 Axes>"
      ]
     },
     "execution_count": 41,
     "metadata": {
      "needs_background": "light"
     },
     "output_type": "execute_result"
    }
   ],
   "source": [
    "#Returns the function f1\n",
    "def f3(x):\n",
    "    return 2*((x >= 0).astype(float)) - 1\n",
    "\n",
    "N = np.array([1,2,10,25,50])        #All the values of the order of expansion for the fourier series\n",
    "\n",
    "a = -np.pi                          #Lower limit of the fourier series\n",
    "b = np.pi                           #Upper limit of the fourier series\n",
    "Npoints = 100\n",
    "\n",
    "x = np.linspace(a,b,100)            #generate a linespace of 100 uniformly distributed points between a and b\n",
    "y3= f3(x)                           #compute the value of f1 at all points in x\n",
    "\n",
    "fourier3 = np.zeros((N.shape[0],Npoints))    #initialize an 2D array that stores the fourier expansion of f1 for different order of expansion\n",
    "for i in range(N.shape[0]):                  #Loop over all values of N\n",
    "    tmp_coeff = fourier_coeffs(x,y3,N[i])            #Compute the coefficients for fourier expansion\n",
    "    fourier3[i]= fourier_series(x,tmp_coeff,N[i])    #Compute the fourier series\n",
    "\n",
    "#Plot the expansion\n",
    "plt.figure()\n",
    "for i in range(N.shape[0]):\n",
    "    plt.plot(x,fourier3[i],label='N = {:d}'.format(N[i]))\n",
    "\n",
    "#Plot the original function\n",
    "plt.plot(x,y3,'k',label='sign(x)')\n",
    "\n",
    "plt.xlabel('x')\n",
    "plt.ylabel('y')\n",
    "plt.legend()"
   ]
  }
 ],
 "metadata": {
  "kernelspec": {
   "display_name": "Python 3 (system-wide)",
   "language": "python",
   "metadata": {
    "cocalc": {
     "description": "Python 3 programming language",
     "priority": 100,
     "url": "https://www.python.org/"
    }
   },
   "name": "python3",
   "resource_dir": "/ext/jupyter/kernels/python3"
  },
  "language_info": {
   "codemirror_mode": {
    "name": "ipython",
    "version": 3
   },
   "file_extension": ".py",
   "mimetype": "text/x-python",
   "name": "python",
   "nbconvert_exporter": "python",
   "pygments_lexer": "ipython3",
   "version": "3.9.6"
  },
  "varInspector": {
   "cols": {
    "lenName": 16,
    "lenType": 16,
    "lenVar": 40
   },
   "kernels_config": {
    "python": {
     "delete_cmd_postfix": "",
     "delete_cmd_prefix": "del ",
     "library": "var_list.py",
     "varRefreshCmd": "print(var_dic_list())"
    },
    "r": {
     "delete_cmd_postfix": ") ",
     "delete_cmd_prefix": "rm(",
     "library": "var_list.r",
     "varRefreshCmd": "cat(var_dic_list()) "
    }
   },
   "types_to_exclude": [
    "module",
    "function",
    "builtin_function_or_method",
    "instance",
    "_Feature"
   ],
   "window_display": false
  }
 },
 "nbformat": 4,
 "nbformat_minor": 4
}
