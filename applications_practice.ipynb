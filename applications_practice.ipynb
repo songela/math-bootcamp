{
 "cells": [
  {
   "cell_type": "markdown",
   "metadata": {},
   "source": [
    "# Applications of Python Practice Problems"
   ]
  },
  {
   "cell_type": "markdown",
   "metadata": {},
   "source": [
    "### \\(1\\) Orthonormal Basis Vectors\n",
    "\n",
    "<img src=\"./math_mascot.jpg\">\n",
    "\n",
    "###### <span style='font-size:medium'>The following problem is intended to give you practice using numpy arrays and writing functions. You will write a function that finds the dot product between two vectors. After getting this practice, we will see how we can simplify the problem by using existing functions in the numpy library. </span>\n",
    "\n"
   ]
  },
  {
   "cell_type": "markdown",
   "metadata": {},
   "source": [
    "##### \\(1\\) Verify that the vectors  $v_1$ = \\[3, \\-1, 0\\] and $v_2$ = \\[1, 3, \\-8/7\\] are orthogonal by writing a function that finds their dot product.\n",
    "\n"
   ]
  },
  {
   "cell_type": "markdown",
   "metadata": {},
   "source": [
    "##### \\(2\\) Write a function that normalizes $v_1$ and $v_2$ and print the normalized vectors.\n",
    "\n"
   ]
  },
  {
   "cell_type": "code",
   "execution_count": null,
   "metadata": {},
   "outputs": [],
   "source": [
    "import numpy as np"
   ]
  },
  {
   "cell_type": "code",
   "execution_count": null,
   "metadata": {},
   "outputs": [],
   "source": [
    "# Part 1\n",
    "\n",
    "# Define a function that takes in two vectors (labeled a and b) as arguments (inputs).\n",
    "\n",
    "def dot(#INSERT CODE HERE#):  # define a function that takes in a and b as arguments (which we will assume are arrays when we call them in the function)\n",
    "    total = 0                 # initialize a running total that we will add the element-wise products to\n",
    "    for i in range((len(#INSERT CODE HERE#))): # loop over the number of elements in a and b (they must be equal)\n",
    "        total += a[i] * b[i]  # multiply the elements of the vectors together and add them to the running sum\n",
    "    return total              # returns the sum of the products\n",
    "\n",
    "# Use numpy.array to create our 2 vectors (if you forget the syntax you can always google it!)\n",
    "\n",
    "v1 = #INSERT CODE HERE#\n",
    "v2 = #INSERT CODE HERE#\n",
    "\n",
    "# Assign a new variable that stores the return value of our function evaluating our dot product\n",
    "\n",
    "d = dot(v1, v2)\n",
    "\n",
    "# Print our dot product (what value do we expect to get?)\n",
    "\n",
    "print(\"Dot product:\\n\", #INSERT CODE HERE#)      # the \\n part makes it so it prints d on a new line, which looks much nicer\n",
    "\n",
    "# Instead of writing a function (which is excellent practice!), we\n",
    "# can simplify our code to one line by using the numpy.dot function\n",
    "\n",
    "nd = np.dot(v1, v2)\n",
    "print(\"Numpy dot product:\\n\", #INSERT CODE HERE#)"
   ]
  },
  {
   "cell_type": "code",
   "execution_count": null,
   "metadata": {},
   "outputs": [],
   "source": [
    "# Part 2\n",
    "      \n",
    "# Define a function that takes in a vector \"a\" as the argument. Notice how you can use the same variables as in the function above because \"a\" is a local variable (the rest of the code does not know about \"a\" outside of the function).\n",
    "\n",
    "# Write a function that takes in an arbitrary vector and returns it in normalized form\n",
    "\n",
    "def normalized(a):\n",
    "    sum_of_squares = 0                          # initialize a running sum that sums the squares of the vector elements\n",
    "    for i in range(len(a)):                     # loop over all of the elements of vector a\n",
    "        sum_of_squares += #INSERT CODE HERE#    # add the squares of the vector elements to the running sum\n",
    "    length = #INSERT CODE HERE#                 # get the length of the vector by taking the square root of the sum (try using \"np.sqrt()\"!)\n",
    "    return #INSERT CODE HERE#                   # return the vector a divided by it's norm (length)\n",
    "\n",
    "# Print the normalized vectors v1 and v2\n",
    "\n",
    "print(\"Normalized v1:\\n\", normalized(v1))\n",
    "print(\"Normalized v2:\\n\", normalized(v2))\n",
    "\n",
    "# Use the np.linalg.norm function to verify that our vectors are normalized (have length of 1)\n",
    "\n",
    "print(\"Length of v1:\\n\", np.linalg.norm(#INSERT CODE HERE#))\n",
    "print(\"Length of v2:\\n\", np.linalg.norm(#INSERT CODE HERE#))"
   ]
  },
  {
   "cell_type": "markdown",
   "metadata": {},
   "source": [
    "### \\(2\\) Solving for an eigensystem in Python\n",
    "\n",
    "##### <span style='font-size:medium'>In the Linear Algebra 3: Matrix Algebra section, we cover an example of finding the eigenvectors and eigenvalues of a 3x3 matrix by solving the characteristic equation. This requires finding the roots of a cubic polynomial. As you can imagine, extending this approach to higher matrix dimensions becomes impractical by hand, which is why we make computers do the work for us! For this problem, we will build a 7x7 matrix and find its eigenvectors/values using the numpy linalg library. This type of problem will show up countless times in CHEM221A\\-\\-you will often be asked to build a Hamiltonian matrix in a certain basis and subsequently find its stationary states \\(eigenvectors\\) and corresponding energy levels.</span>\n",
    "\n",
    "##### ​\n",
    "\n"
   ]
  },
  {
   "cell_type": "code",
   "execution_count": null,
   "metadata": {},
   "outputs": [],
   "source": [
    "import numpy as np"
   ]
  },
  {
   "cell_type": "markdown",
   "metadata": {},
   "source": [
    "##### \\(1\\) Generate a random symmetric 7x7 matrix with elements between 0\\-1. There are a lot of ways to do this but for this case we can just generate a random matrix and then overwrite the lower triangular matrix to make it symmetric.\n",
    "\n"
   ]
  },
  {
   "cell_type": "markdown",
   "metadata": {},
   "source": [
    "##### \\(2\\) Prove that the vector v = \\[ 3, \\-3, 7 \\] is an eigenvector of the matrix\n",
    "\n",
    "```\n",
    "   A = [ 5,  2, 0 ]\n",
    "       [ 2,  5, 0 ]\n",
    "       [-3,  4, 6 ]\n",
    "```\n",
    "\n",
    "##### By writing your own function that performs matrix\\-vector multiplication! What is the corresponding eigenvalue?\n",
    "\n"
   ]
  },
  {
   "cell_type": "code",
   "execution_count": null,
   "metadata": {},
   "outputs": [],
   "source": [
    "# Part 1\n",
    "\n",
    "O = np.random.rand(#INSERT CODE HERE#)\n",
    "\n",
    "for i in range(len(O)):                                     # Loop over the number of rows of the matrix\n",
    "    for j in range(#INSERT CODE HERE#, len(O)):             # Loop over the appropriate number of columns (Be careful here, it's tricky!)\n",
    "        O[j][i] = O[#INSERT CODE HERE#][#INSERT CODE HERE#] # Overwrite the appropriate elements of O to get the new symmetric matrix\n",
    "\n",
    "print(\"Matrix O that we will diagonalize:\\n\", O)\n",
    "\n",
    "# Find the eigenvalues and eigenvectors of this matrix using numpy.linalg.eig and print the result.\n",
    "\n",
    "#INSERT CODE HERE# = np.linalg.eig(O)    # np.linalg.eig returns the eigenvalues and eigenvectors of your matrix. **Read the documentation to figure out                                            # how to properly call this function\n",
    "\n",
    "print(\"Eigenvalues of O:\\n\", evals)\n",
    "print(\"Eigenvectors of O:\\n\", evecs)\n"
   ]
  },
  {
   "cell_type": "code",
   "execution_count": null,
   "metadata": {},
   "outputs": [],
   "source": [
    "# Part 2\n",
    "\n",
    "# Generate your vector and matrix here\n",
    "\n",
    "A = np.array(#INSERT CODE HERE#)\n",
    "v = np.array([3, -3, 7])\n",
    "\n",
    "print(\"A matrix:\\n\", A)\n",
    "print(\"Vector v:\\n\", v)\n",
    "\n",
    "# Define a function that takes in an arbitary matrix A and vector v and returns the matrix-vector product\n",
    "\n",
    "def mat_vec_mul(#INSERT CODE HERE#):            # define function that takes in arbitrary matrix A and vector v as arguments\n",
    "    b = np.zeros_like(#INSERT CODE HERE#)       # create empty np array with same dimensions as vector v\n",
    "    for i in range(len(v)):                     # loop over length (number of rows) of vector v (remember this must be equal to the # of columns of A!)\n",
    "        for j in range(len(v)):                 # loop over number of columns of A\n",
    "            b[i] += #INSERT CODE HERE#          # save matrix-vector product to new array\n",
    "    return b\n",
    "\n",
    "print(\"New vector:\\n\", mat_vec_mul(A,v))\n",
    "\n"
   ]
  },
  {
   "cell_type": "markdown",
   "metadata": {},
   "source": [
    "### \\(3\\) Compute definite integrals using the Trapezoid method and Midpoint method\n",
    "\n",
    "##### Computing definite integrals is one of the first things you'll encounter in both 221A as well as 220A, when you are required to normalize wavefunctions and probability distributions. While this method is covered in the lectures, we want to go over it again, as it is required for the next question on computing fourier series.\n",
    "\n",
    "\n"
   ]
  },
  {
   "cell_type": "markdown",
   "metadata": {},
   "source": [
    "##### \\(1\\) Write a function trapezoid\\_integral\\(x,y\\) that takes a uniformly distributed array of values \\(x\\) within the limits of the definite integral and the values of the function at those points \\(y\\), and returns the definite integral using the trapezoid method. Using this method compute the definite integral of $e^{-x}$ from $0$ to $5$ . You might find this [link](https://math.libretexts.org/Courses/Mount_Royal_University/MATH_2200%3A_Calculus_for_Scientists_II/2%3A_Techniques_of_Integration/2.5%3A_Numerical_Integration_-_Midpoint%2C_Trapezoid%2C_Simpson%27s_rule) to be useful\n",
    "\n"
   ]
  },
  {
   "cell_type": "markdown",
   "metadata": {},
   "source": [
    "##### \\(2\\) Write a function midpoint\\_integral\\(f,a,b\\) that takes a reference to a function \\(f\\), the lower limit \\(a\\), and the upper limit \\(b\\) of the definite integral, and computes the definite integral compute using the midpoint method.  Using this method compute the definite integral of $e^{-x}$ from $0$ to $5$ , and compare the numerical error between the midpoint method and trapezoid method. You might find this [link](https://math.libretexts.org/Courses/Mount_Royal_University/MATH_2200%3A_Calculus_for_Scientists_II/2%3A_Techniques_of_Integration/2.5%3A_Numerical_Integration_-_Midpoint%2C_Trapezoid%2C_Simpson%27s_rule) to be useful.\n",
    "\n"
   ]
  },
  {
   "cell_type": "code",
   "execution_count": null,
   "metadata": {},
   "outputs": [],
   "source": [
    "import numpy as np\n",
    "\n",
    "# Part 1\n",
    "\n",
    "#Write a function that returns exp(-x)\n",
    "def func(x):\n",
    "    return #INSERT CODE HERE#\n",
    "\n",
    "#Define the limits of integration\n",
    "a = #INSERT CODE HERE#            #lower limit\n",
    "b = #INSERT CODE HERE#            #upper limit\n",
    "\n",
    "x = #INSERT CODE HERE#            #generate a linespace of 100 uniformly distributed points between a and b\n",
    "y = #INSERT CODE HERE#            #compute the value of the function at those points\n",
    "\n",
    "def trapezoid_integral(x,y):\n",
    "    Npoints = #INSERT CODE HERE#            #contains the length of the array x\n",
    "    integrand = #INSERT CODE HERE#          #holder for the integral\n",
    "    dx = #INSERT CODE HERE#                 #compute the spacing between each point\n",
    "    for i in #INSERT CODE HERE#:            #loop over all the values\n",
    "        integrand += #INSERT CODE HERE#     #sum over all the values\n",
    "    return integrand\n",
    "\n",
    "trapz_integral = #INSERT CODE HERE#         #call the function\n",
    "exact_integral = 1-np.exp(-5)               #exact integral\n",
    "trapz_error    = #INSERT CODE HERE#         #compute the numerical error of integration\n",
    "\n",
    "print(\"The definite integral of exp(-x) from 0 to 5 computed using the trapezoid method is \", trapz_integral)\n",
    "print(\"The numerical error for the trapezoid method is\", trapz_error)"
   ]
  },
  {
   "cell_type": "code",
   "execution_count": null,
   "metadata": {},
   "outputs": [],
   "source": [
    "# Part 2\n",
    "\n",
    "#Write a function that returns exp(-x)\n",
    "def func(x):\n",
    "    return #INSERT CODE HERE#\n",
    "\n",
    "#Define the limits of integration\n",
    "a = #INSERT CODE HERE#            #lower limit\n",
    "b = #INSERT CODE HERE#            #upper limit\n",
    "\n",
    "def midpoint_integral(f,a,b):\n",
    "    Npoints = 100\n",
    "    x = #INSERT CODE HERE#                  #generate a linespace of 100 uniformly distributed points between a and b\n",
    "    dx = #INSERT CODE HERE#                 #compute the spacing between each point\n",
    "    integrand = #INSERT CODE HERE#          #holder for the integral\n",
    "    for i in #INSERT CODE HERE#             #loop over all values\n",
    "        xmid = #INSERT CODE HERE#           #compute the midpoint between each uniformly distributed point\n",
    "        ymid = #INSERT CODE HERE#           #compute the value of the functions at xmid\n",
    "        integrand += #INSERT CODE HERE#     #sum up the value to compute the integral       \n",
    "    return integrand\n",
    "\n",
    "midp_integral = #INSERT CODE HERE#         #call the function\n",
    "exact_integral = 1-np.exp(-5)               #exact integral\n",
    "midp_error    = #INSERT CODE HERE#         #compute the numerical error of integration\n",
    "\n",
    "print(\"The definite integral of exp(-x) from 0 to 5 computed using the trapezoid method is \", midp_integral)\n",
    "print(\"The numerical error for the trapezoid method is\", midp_error)"
   ]
  },
  {
   "cell_type": "markdown",
   "metadata": {},
   "source": [
    "### BONUS: \\(4\\) Compute the fourier series using numerical integration\n",
    "\n",
    "##### PLEASE FINISH Q. 3\\(1\\) BEFORE ATTEMPTING THIS PROBLEM.\n",
    "\n",
    "##### In this section, we are going to write a function to compute the coefficients as well the fourier series of a couple of functions using the trapezoid\\_integral function that we just constructed.\n",
    "\n"
   ]
  },
  {
   "cell_type": "markdown",
   "metadata": {},
   "source": [
    "##### \\(1\\) To start, construct a function fourier\\_coefficients\\(x,y,N\\), that takes in a array with uniformly distributed linespace between a given range \\(x\\), the values of the function at those points \\(y\\), and the order of expansion for the fourier series that is given by $2N+1$ . It returns the coefficients for the sine and cosine functions by computing the relevant definite integral using the trapezoid\\_integral method.\n",
    "\n"
   ]
  },
  {
   "cell_type": "markdown",
   "metadata": {},
   "source": [
    "##### \\(2\\) Next, write a function fourier\\_series\\(x,coeffs,N\\) that computes the fourier series expansion upto order $2N+1$ for all values of x , by taking the fourier coefficients as the argument.\n",
    "\n"
   ]
  },
  {
   "cell_type": "markdown",
   "metadata": {},
   "source": [
    "##### \\(3\\) Plot the fourier series of for the following functions within the range of \\[ $-\\pi, \\pi$ \\] :\n",
    "\n",
    "##### \\(a\\) $f_1=-x$\n",
    "\n",
    "##### \\(b\\) $f_2 = sin(x + \\frac{1}{2}sin(x))$\n",
    "\n",
    "##### \\(c\\)$f_3 = \\mathrm{sign}(x)$ \\(=1 for $ \\geq $ 0, else = \\-1\\)\n",
    "\n",
    "##### Do so for N = \\[1, 2,10, 25, 50\\] , and compare the differences between the approximations. Why can expansions of certain functions be truncated at lower values of N?\n",
    "\n"
   ]
  },
  {
   "cell_type": "code",
   "execution_count": null,
   "metadata": {},
   "outputs": [],
   "source": [
    "#Part 1\n",
    "import numpy as np\n",
    "#Write a to compute the fourier coefficients\n",
    "def fourier_coeffs(x,y,N):\n",
    "    Npoints = #INSERT CODE HERE#              #Contains the length of the array x\n",
    "    coeffs = np.zeros((2*N+1))                #Holder for all the coefficients\n",
    "    coeffs[0] = #INSERT CODE HERE#            #Compute the 0th coefficient using numerical integration\n",
    "    for i in range(N):\n",
    "        tmp_cos = #INSERT CODE HERE#          #Compute the integrand for the (i+1)th cosine term\n",
    "        tmp_sin = #INSERT CODE HERE#          #Compute the integrand for the (i+1)th sin term\n",
    "        coeffs[2*i+1] = #INSERT CODE HERE#    #Compute the coefficient corresponding to the (i+1)th cosine term\n",
    "        coeffs[2*i+2] = #INSERT CODE HERE#    #Compute the coefficient corresponding to the (i+1)th sine term\n",
    "    return coeffs"
   ]
  },
  {
   "cell_type": "code",
   "execution_count": null,
   "metadata": {},
   "outputs": [],
   "source": [
    "#Part 2\n",
    "def fourier_series(x,coeffs,N):\n",
    "    Npoints  = #INSERT CODE HERE#              #Contains the length of the array x\n",
    "    fourier  = #INSERT CODE HERE#              #Holder for the values of the fourier series\n",
    "    fourier += #INSERT CODE HERE#              #Add the 0th coeffient\n",
    "    for i in range(N):\n",
    "        fourier += #INSERT CODE HERE#          #Add the (i+1)th cosine term\n",
    "        fourier += #INSERT CODE HERE#          #Add the (i+1)th sine term\n",
    "    return fourier\n",
    "\n",
    "\n"
   ]
  },
  {
   "cell_type": "code",
   "execution_count": null,
   "metadata": {},
   "outputs": [],
   "source": [
    "#Part 3\n",
    "import matplotlib.pyplot as plt\n",
    "\n",
    "#Returns the function f1\n",
    "def f1(x):\n",
    "    return #INSERT CODE HERE#\n",
    "\n",
    "N = np.array([1,2,10,25,50])       #All the values of the order of expansion for the fourier series\n",
    "\n",
    "a = -np.pi                          #Lower limit of the fourier series\n",
    "b = np.pi                           #Upper limit of the fourier series\n",
    "Npoints = 100\n",
    "\n",
    "x = #INSERT CODE HERE#              #generate a linespace of 100 uniformly distributed points between a and b\n",
    "y1= #INSERT CODE HERE#              #compute the value of f1 at all points in x\n",
    "\n",
    "fourier1 = #INSERT CODE HERE#           #initialize an 2D array that stores the fourier expansion of f1 for different order of expansion\n",
    "for i in #INSERT CODE HERE#             #Loop over all values of N\n",
    "    tmp_coeff = #INSERT CODE HERE#      #Compute the coefficients for fourier expansion\n",
    "    fourier1[i]= #INSERT CODE HERE#     #Compute the fourier series\n",
    "\n",
    "#Plot the expansion\n",
    "plt.figure()\n",
    "\n",
    "for i in range(N.shape[0]):\n",
    "    plt.plot(x,fourier1[i],label='N = {%d}'.format(N[i]))\n",
    "\n",
    "#Plot the original function\n",
    "plt.plot(x,y1,'k',label='-x')\n",
    "\n",
    "plt.xlabel('x')\n",
    "plt.ylabel('y')\n",
    "plt.legend()\n",
    "\n",
    "\n",
    "#Copy paste the above snippet for parts 3(b) and 3(c)"
   ]
  }
 ],
 "metadata": {
  "kernelspec": {
   "display_name": "Python 3 (ipykernel)",
   "language": "python",
   "name": "python3"
  },
  "language_info": {
   "codemirror_mode": {
    "name": "ipython",
    "version": 3
   },
   "file_extension": ".py",
   "mimetype": "text/x-python",
   "name": "python",
   "nbconvert_exporter": "python",
   "pygments_lexer": "ipython3",
   "version": "3.9.15"
  }
 },
 "nbformat": 4,
 "nbformat_minor": 4
}
