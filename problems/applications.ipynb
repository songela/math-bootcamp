{
 "cells": [
  {
   "cell_type": "markdown",
   "metadata": {},
   "source": [
    "# Adventures in Analysis\n",
    "Evelyn the Experimentalist has some data that she needs your help to analyze. Let's put your Python skills to action!"
   ]
  },
  {
   "cell_type": "markdown",
   "metadata": {},
   "source": [
    "The two main libraries we will use are `numpy` and `matplotlib.pylot`. Let's import them here. For convenience, we can import them with aliases so that we save some keystrokes going forward."
   ]
  },
  {
   "cell_type": "code",
   "execution_count": 1,
   "metadata": {},
   "outputs": [],
   "source": [
    "import numpy as np\n",
    "import matplotlib.pyplot as plt"
   ]
  },
  {
   "cell_type": "markdown",
   "metadata": {},
   "source": [
    "## Loading data"
   ]
  },
  {
   "cell_type": "markdown",
   "metadata": {},
   "source": [
    "`numpy` has functions to load data of various forms. Your data for today is stored in `\"SampleFiles/test_data.txt\"` and consists of two columns: times and datapoints. Use a `numpy` function to load the data (and store it in a variable called `data`). If you get stuck, keep scrolling down..."
   ]
  },
  {
   "cell_type": "code",
   "execution_count": null,
   "metadata": {},
   "outputs": [],
   "source": []
  },
  {
   "cell_type": "markdown",
   "metadata": {},
   "source": [
    "You might have gotten an error about\n",
    "> ValueError: could not convert string 'Time' to float64 at row 0, column 1.\n",
    "\n",
    "This is because we have a header in our data file, which we want to ignore. Conveniently, there is an option to skip some number of rows when loading data into numpy; find this option and use it!"
   ]
  },
  {
   "cell_type": "code",
   "execution_count": null,
   "metadata": {},
   "outputs": [],
   "source": []
  },
  {
   "cell_type": "markdown",
   "metadata": {},
   "source": [
    "Alternatively, you could have used the file manipulation tricks from `MoreAdvancedIntro.ipynb` to load the data manually and store it in an array. It's simpler to use built-in functions when possible, though."
   ]
  },
  {
   "cell_type": "markdown",
   "metadata": {},
   "source": [
    "## Basic plotting and filtering"
   ]
  },
  {
   "cell_type": "markdown",
   "metadata": {},
   "source": [
    "Great, now you've loaded your data into the notebook. Use a function from `matplotlib.pyplot` (which we loaded as `plt`) to plot your data."
   ]
  },
  {
   "cell_type": "code",
   "execution_count": null,
   "metadata": {},
   "outputs": [],
   "source": []
  },
  {
   "cell_type": "markdown",
   "metadata": {},
   "source": [
    "Based on the instrument settings, you know that data collection on your sample only begins at $t=50$. Filter your data to include only points after $t=50$.\n",
    "\n",
    "Plot the filtered data to check yourself."
   ]
  },
  {
   "cell_type": "code",
   "execution_count": null,
   "metadata": {},
   "outputs": [],
   "source": []
  },
  {
   "cell_type": "markdown",
   "metadata": {},
   "source": [
    "## Curve optimization"
   ]
  },
  {
   "cell_type": "markdown",
   "metadata": {},
   "source": [
    "Now that you've filtered your data, let's fit it to a curve. The function `scipy.optimize.curve_fit` does what we want. Let's import it and look at how it works."
   ]
  },
  {
   "cell_type": "code",
   "execution_count": 6,
   "metadata": {},
   "outputs": [],
   "source": [
    "from scipy.optimize import curve_fit"
   ]
  },
  {
   "cell_type": "code",
   "execution_count": 7,
   "metadata": {},
   "outputs": [
    {
     "name": "stdout",
     "output_type": "stream",
     "text": [
      "\u001b[0;31mSignature:\u001b[0m\n",
      "\u001b[0mcurve_fit\u001b[0m\u001b[0;34m(\u001b[0m\u001b[0;34m\u001b[0m\n",
      "\u001b[0;34m\u001b[0m    \u001b[0mf\u001b[0m\u001b[0;34m,\u001b[0m\u001b[0;34m\u001b[0m\n",
      "\u001b[0;34m\u001b[0m    \u001b[0mxdata\u001b[0m\u001b[0;34m,\u001b[0m\u001b[0;34m\u001b[0m\n",
      "\u001b[0;34m\u001b[0m    \u001b[0mydata\u001b[0m\u001b[0;34m,\u001b[0m\u001b[0;34m\u001b[0m\n",
      "\u001b[0;34m\u001b[0m    \u001b[0mp0\u001b[0m\u001b[0;34m=\u001b[0m\u001b[0;32mNone\u001b[0m\u001b[0;34m,\u001b[0m\u001b[0;34m\u001b[0m\n",
      "\u001b[0;34m\u001b[0m    \u001b[0msigma\u001b[0m\u001b[0;34m=\u001b[0m\u001b[0;32mNone\u001b[0m\u001b[0;34m,\u001b[0m\u001b[0;34m\u001b[0m\n",
      "\u001b[0;34m\u001b[0m    \u001b[0mabsolute_sigma\u001b[0m\u001b[0;34m=\u001b[0m\u001b[0;32mFalse\u001b[0m\u001b[0;34m,\u001b[0m\u001b[0;34m\u001b[0m\n",
      "\u001b[0;34m\u001b[0m    \u001b[0mcheck_finite\u001b[0m\u001b[0;34m=\u001b[0m\u001b[0;32mTrue\u001b[0m\u001b[0;34m,\u001b[0m\u001b[0;34m\u001b[0m\n",
      "\u001b[0;34m\u001b[0m    \u001b[0mbounds\u001b[0m\u001b[0;34m=\u001b[0m\u001b[0;34m(\u001b[0m\u001b[0;34m-\u001b[0m\u001b[0minf\u001b[0m\u001b[0;34m,\u001b[0m \u001b[0minf\u001b[0m\u001b[0;34m)\u001b[0m\u001b[0;34m,\u001b[0m\u001b[0;34m\u001b[0m\n",
      "\u001b[0;34m\u001b[0m    \u001b[0mmethod\u001b[0m\u001b[0;34m=\u001b[0m\u001b[0;32mNone\u001b[0m\u001b[0;34m,\u001b[0m\u001b[0;34m\u001b[0m\n",
      "\u001b[0;34m\u001b[0m    \u001b[0mjac\u001b[0m\u001b[0;34m=\u001b[0m\u001b[0;32mNone\u001b[0m\u001b[0;34m,\u001b[0m\u001b[0;34m\u001b[0m\n",
      "\u001b[0;34m\u001b[0m    \u001b[0;34m*\u001b[0m\u001b[0;34m,\u001b[0m\u001b[0;34m\u001b[0m\n",
      "\u001b[0;34m\u001b[0m    \u001b[0mfull_output\u001b[0m\u001b[0;34m=\u001b[0m\u001b[0;32mFalse\u001b[0m\u001b[0;34m,\u001b[0m\u001b[0;34m\u001b[0m\n",
      "\u001b[0;34m\u001b[0m    \u001b[0;34m**\u001b[0m\u001b[0mkwargs\u001b[0m\u001b[0;34m,\u001b[0m\u001b[0;34m\u001b[0m\n",
      "\u001b[0;34m\u001b[0m\u001b[0;34m)\u001b[0m\u001b[0;34m\u001b[0m\u001b[0;34m\u001b[0m\u001b[0m\n",
      "\u001b[0;31mDocstring:\u001b[0m\n",
      "Use non-linear least squares to fit a function, f, to data.\n",
      "\n",
      "Assumes ``ydata = f(xdata, *params) + eps``.\n",
      "\n",
      "Parameters\n",
      "----------\n",
      "f : callable\n",
      "    The model function, f(x, ...). It must take the independent\n",
      "    variable as the first argument and the parameters to fit as\n",
      "    separate remaining arguments.\n",
      "xdata : array_like or object\n",
      "    The independent variable where the data is measured.\n",
      "    Should usually be an M-length sequence or an (k,M)-shaped array for\n",
      "    functions with k predictors, but can actually be any object.\n",
      "ydata : array_like\n",
      "    The dependent data, a length M array - nominally ``f(xdata, ...)``.\n",
      "p0 : array_like, optional\n",
      "    Initial guess for the parameters (length N). If None, then the\n",
      "    initial values will all be 1 (if the number of parameters for the\n",
      "    function can be determined using introspection, otherwise a\n",
      "    ValueError is raised).\n",
      "sigma : None or M-length sequence or MxM array, optional\n",
      "    Determines the uncertainty in `ydata`. If we define residuals as\n",
      "    ``r = ydata - f(xdata, *popt)``, then the interpretation of `sigma`\n",
      "    depends on its number of dimensions:\n",
      "\n",
      "        - A 1-D `sigma` should contain values of standard deviations of\n",
      "          errors in `ydata`. In this case, the optimized function is\n",
      "          ``chisq = sum((r / sigma) ** 2)``.\n",
      "\n",
      "        - A 2-D `sigma` should contain the covariance matrix of\n",
      "          errors in `ydata`. In this case, the optimized function is\n",
      "          ``chisq = r.T @ inv(sigma) @ r``.\n",
      "\n",
      "          .. versionadded:: 0.19\n",
      "\n",
      "    None (default) is equivalent of 1-D `sigma` filled with ones.\n",
      "absolute_sigma : bool, optional\n",
      "    If True, `sigma` is used in an absolute sense and the estimated parameter\n",
      "    covariance `pcov` reflects these absolute values.\n",
      "\n",
      "    If False (default), only the relative magnitudes of the `sigma` values matter.\n",
      "    The returned parameter covariance matrix `pcov` is based on scaling\n",
      "    `sigma` by a constant factor. This constant is set by demanding that the\n",
      "    reduced `chisq` for the optimal parameters `popt` when using the\n",
      "    *scaled* `sigma` equals unity. In other words, `sigma` is scaled to\n",
      "    match the sample variance of the residuals after the fit. Default is False.\n",
      "    Mathematically,\n",
      "    ``pcov(absolute_sigma=False) = pcov(absolute_sigma=True) * chisq(popt)/(M-N)``\n",
      "check_finite : bool, optional\n",
      "    If True, check that the input arrays do not contain nans of infs,\n",
      "    and raise a ValueError if they do. Setting this parameter to\n",
      "    False may silently produce nonsensical results if the input arrays\n",
      "    do contain nans. Default is True.\n",
      "bounds : 2-tuple of array_like, optional\n",
      "    Lower and upper bounds on parameters. Defaults to no bounds.\n",
      "    Each element of the tuple must be either an array with the length equal\n",
      "    to the number of parameters, or a scalar (in which case the bound is\n",
      "    taken to be the same for all parameters). Use ``np.inf`` with an\n",
      "    appropriate sign to disable bounds on all or some parameters.\n",
      "\n",
      "    .. versionadded:: 0.17\n",
      "method : {'lm', 'trf', 'dogbox'}, optional\n",
      "    Method to use for optimization. See `least_squares` for more details.\n",
      "    Default is 'lm' for unconstrained problems and 'trf' if `bounds` are\n",
      "    provided. The method 'lm' won't work when the number of observations\n",
      "    is less than the number of variables, use 'trf' or 'dogbox' in this\n",
      "    case.\n",
      "\n",
      "    .. versionadded:: 0.17\n",
      "jac : callable, string or None, optional\n",
      "    Function with signature ``jac(x, ...)`` which computes the Jacobian\n",
      "    matrix of the model function with respect to parameters as a dense\n",
      "    array_like structure. It will be scaled according to provided `sigma`.\n",
      "    If None (default), the Jacobian will be estimated numerically.\n",
      "    String keywords for 'trf' and 'dogbox' methods can be used to select\n",
      "    a finite difference scheme, see `least_squares`.\n",
      "\n",
      "    .. versionadded:: 0.18\n",
      "full_output : boolean, optional\n",
      "    If True, this function returns additioal information: `infodict`,\n",
      "    `mesg`, and `ier`.\n",
      "\n",
      "    .. versionadded:: 1.9\n",
      "**kwargs\n",
      "    Keyword arguments passed to `leastsq` for ``method='lm'`` or\n",
      "    `least_squares` otherwise.\n",
      "\n",
      "Returns\n",
      "-------\n",
      "popt : array\n",
      "    Optimal values for the parameters so that the sum of the squared\n",
      "    residuals of ``f(xdata, *popt) - ydata`` is minimized.\n",
      "pcov : 2-D array\n",
      "    The estimated covariance of popt. The diagonals provide the variance\n",
      "    of the parameter estimate. To compute one standard deviation errors\n",
      "    on the parameters use ``perr = np.sqrt(np.diag(pcov))``.\n",
      "\n",
      "    How the `sigma` parameter affects the estimated covariance\n",
      "    depends on `absolute_sigma` argument, as described above.\n",
      "\n",
      "    If the Jacobian matrix at the solution doesn't have a full rank, then\n",
      "    'lm' method returns a matrix filled with ``np.inf``, on the other hand\n",
      "    'trf'  and 'dogbox' methods use Moore-Penrose pseudoinverse to compute\n",
      "    the covariance matrix.\n",
      "infodict : dict (returned only if `full_output` is True)\n",
      "    a dictionary of optional outputs with the keys:\n",
      "\n",
      "    ``nfev``\n",
      "        The number of function calls. Methods 'trf' and 'dogbox' do not\n",
      "        count function calls for numerical Jacobian approximation,\n",
      "        as opposed to 'lm' method.\n",
      "    ``fvec``\n",
      "        The function values evaluated at the solution.\n",
      "    ``fjac``\n",
      "        A permutation of the R matrix of a QR\n",
      "        factorization of the final approximate\n",
      "        Jacobian matrix, stored column wise.\n",
      "        Together with ipvt, the covariance of the\n",
      "        estimate can be approximated.\n",
      "        Method 'lm' only provides this information.\n",
      "    ``ipvt``\n",
      "        An integer array of length N which defines\n",
      "        a permutation matrix, p, such that\n",
      "        fjac*p = q*r, where r is upper triangular\n",
      "        with diagonal elements of nonincreasing\n",
      "        magnitude. Column j of p is column ipvt(j)\n",
      "        of the identity matrix.\n",
      "        Method 'lm' only provides this information.\n",
      "    ``qtf``\n",
      "        The vector (transpose(q) * fvec).\n",
      "        Method 'lm' only provides this information.\n",
      "\n",
      "    .. versionadded:: 1.9\n",
      "mesg : str (returned only if `full_output` is True)\n",
      "    A string message giving information about the solution.\n",
      "\n",
      "    .. versionadded:: 1.9\n",
      "ier : int (returnned only if `full_output` is True)\n",
      "    An integer flag. If it is equal to 1, 2, 3 or 4, the solution was\n",
      "    found. Otherwise, the solution was not found. In either case, the\n",
      "    optional output variable `mesg` gives more information.\n",
      "\n",
      "    .. versionadded:: 1.9\n",
      "\n",
      "Raises\n",
      "------\n",
      "ValueError\n",
      "    if either `ydata` or `xdata` contain NaNs, or if incompatible options\n",
      "    are used.\n",
      "\n",
      "RuntimeError\n",
      "    if the least-squares minimization fails.\n",
      "\n",
      "OptimizeWarning\n",
      "    if covariance of the parameters can not be estimated.\n",
      "\n",
      "See Also\n",
      "--------\n",
      "least_squares : Minimize the sum of squares of nonlinear functions.\n",
      "scipy.stats.linregress : Calculate a linear least squares regression for\n",
      "                         two sets of measurements.\n",
      "\n",
      "Notes\n",
      "-----\n",
      "Users should ensure that inputs `xdata`, `ydata`, and the output of `f`\n",
      "are ``float64``, or else the optimization may return incorrect results.\n",
      "\n",
      "With ``method='lm'``, the algorithm uses the Levenberg-Marquardt algorithm\n",
      "through `leastsq`. Note that this algorithm can only deal with\n",
      "unconstrained problems.\n",
      "\n",
      "Box constraints can be handled by methods 'trf' and 'dogbox'. Refer to\n",
      "the docstring of `least_squares` for more information.\n",
      "\n",
      "Examples\n",
      "--------\n",
      ">>> import matplotlib.pyplot as plt\n",
      ">>> from scipy.optimize import curve_fit\n",
      "\n",
      ">>> def func(x, a, b, c):\n",
      "...     return a * np.exp(-b * x) + c\n",
      "\n",
      "Define the data to be fit with some noise:\n",
      "\n",
      ">>> xdata = np.linspace(0, 4, 50)\n",
      ">>> y = func(xdata, 2.5, 1.3, 0.5)\n",
      ">>> rng = np.random.default_rng()\n",
      ">>> y_noise = 0.2 * rng.normal(size=xdata.size)\n",
      ">>> ydata = y + y_noise\n",
      ">>> plt.plot(xdata, ydata, 'b-', label='data')\n",
      "\n",
      "Fit for the parameters a, b, c of the function `func`:\n",
      "\n",
      ">>> popt, pcov = curve_fit(func, xdata, ydata)\n",
      ">>> popt\n",
      "array([2.56274217, 1.37268521, 0.47427475])\n",
      ">>> plt.plot(xdata, func(xdata, *popt), 'r-',\n",
      "...          label='fit: a=%5.3f, b=%5.3f, c=%5.3f' % tuple(popt))\n",
      "\n",
      "Constrain the optimization to the region of ``0 <= a <= 3``,\n",
      "``0 <= b <= 1`` and ``0 <= c <= 0.5``:\n",
      "\n",
      ">>> popt, pcov = curve_fit(func, xdata, ydata, bounds=(0, [3., 1., 0.5]))\n",
      ">>> popt\n",
      "array([2.43736712, 1.        , 0.34463856])\n",
      ">>> plt.plot(xdata, func(xdata, *popt), 'g--',\n",
      "...          label='fit: a=%5.3f, b=%5.3f, c=%5.3f' % tuple(popt))\n",
      "\n",
      ">>> plt.xlabel('x')\n",
      ">>> plt.ylabel('y')\n",
      ">>> plt.legend()\n",
      ">>> plt.show()\n",
      "\u001b[0;31mFile:\u001b[0m      ~/Library/Python/3.9/lib/python/site-packages/scipy/optimize/_minpack_py.py\n",
      "\u001b[0;31mType:\u001b[0m      function\n"
     ]
    }
   ],
   "source": [
    "?curve_fit"
   ]
  },
  {
   "cell_type": "markdown",
   "metadata": {},
   "source": [
    "Note that the first argument `f` is a function that you must define with parameters. Choose a functional form that seems to fit your suspiciously clean data."
   ]
  },
  {
   "cell_type": "code",
   "execution_count": 8,
   "metadata": {},
   "outputs": [],
   "source": [
    "def func(x, a, b, c, d):\n",
    "    # YOUR CODE HERE"
   ]
  },
  {
   "cell_type": "markdown",
   "metadata": {},
   "source": [
    "Now use `curve_fit` to find optimal parameters for your function. Note the outputs of the function."
   ]
  },
  {
   "cell_type": "code",
   "execution_count": null,
   "metadata": {},
   "outputs": [],
   "source": []
  },
  {
   "cell_type": "markdown",
   "metadata": {},
   "source": [
    "Plot both your raw data and the curve that was fit for comparison."
   ]
  },
  {
   "cell_type": "code",
   "execution_count": null,
   "metadata": {},
   "outputs": [],
   "source": []
  },
  {
   "cell_type": "markdown",
   "metadata": {},
   "source": [
    "You probably got a terrible fit. Note that you can give `curve_fit` a guess for parameters from which it will further optimize the fit. This is often necessary when your parameters differ dramatically from the defaults (all 1). Try inputting a guess of initial parameters."
   ]
  },
  {
   "cell_type": "code",
   "execution_count": null,
   "metadata": {},
   "outputs": [],
   "source": []
  },
  {
   "cell_type": "markdown",
   "metadata": {},
   "source": [
    "Again, plot both your raw data and the curve that was fit for comparison."
   ]
  },
  {
   "cell_type": "code",
   "execution_count": null,
   "metadata": {},
   "outputs": [],
   "source": []
  },
  {
   "cell_type": "markdown",
   "metadata": {},
   "source": [
    "That should have been a much better fit!"
   ]
  },
  {
   "cell_type": "markdown",
   "metadata": {},
   "source": [
    "## Making your figures better"
   ]
  },
  {
   "cell_type": "markdown",
   "metadata": {},
   "source": [
    "You can customize `matplotlib` parameters like font, font size, colors, etc. Let's work through a few simple ones. Explore more of them at your leisure!"
   ]
  },
  {
   "cell_type": "markdown",
   "metadata": {},
   "source": [
    "First, you should label your axes. Label your x-axis as `Time` and y-axis as `Voltage` (for example)."
   ]
  },
  {
   "cell_type": "code",
   "execution_count": null,
   "metadata": {},
   "outputs": [],
   "source": []
  },
  {
   "cell_type": "markdown",
   "metadata": {},
   "source": [
    "You should also label your curves. Please label the raw data as `Raw` and the fitted curve as `Fit`. Place the legend in the upper left corner of your figure."
   ]
  },
  {
   "cell_type": "code",
   "execution_count": null,
   "metadata": {},
   "outputs": [],
   "source": []
  },
  {
   "cell_type": "markdown",
   "metadata": {},
   "source": [
    "It's best to plot raw data as points rather than connecting them with arbitrary lines. Sometimes it's also hard to see two different sets of data plotted on the same graph.\n",
    "\n",
    "Please plot the raw data as points, and increase the width of the fitted curve line."
   ]
  },
  {
   "cell_type": "code",
   "execution_count": null,
   "metadata": {},
   "outputs": [],
   "source": []
  },
  {
   "cell_type": "markdown",
   "metadata": {},
   "source": [
    "Finally, your colleagues at the back of the seminar room will thank you for making your fonts much bigger. Please plot the same data and curve fit with font size `24`."
   ]
  }
 ],
 "metadata": {
  "kernelspec": {
   "display_name": "Python 3",
   "language": "python",
   "name": "python3"
  },
  "language_info": {
   "codemirror_mode": {
    "name": "ipython",
    "version": 3
   },
   "file_extension": ".py",
   "mimetype": "text/x-python",
   "name": "python",
   "nbconvert_exporter": "python",
   "pygments_lexer": "ipython3",
   "version": "3.9.6"
  }
 },
 "nbformat": 4,
 "nbformat_minor": 2
}
