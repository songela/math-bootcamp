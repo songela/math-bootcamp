{
 "cells": [
  {
   "cell_type": "markdown",
   "metadata": {},
   "source": [
    "# More Challenging Problems!\n",
    "### File Manipulation\n",
    "Your experimental apparatus gives you some data in a file. How do you analyze it? The following exercises will help you learn to manipulate files in Python."
   ]
  },
  {
   "cell_type": "markdown",
   "metadata": {},
   "source": [
    "`1` This question will rely on the documentation for input and output operations which can be found here: https://docs.python.org/3/tutorial/inputoutput.html#tut-files.\n",
    "Write a function called even_copy() that will take in the name of a file as an input and copies only the even lines of that file to an output file. The input file has name \"data.txt\" the output file should be named \"copied_data.txt\" and should live in the same directory as the input file. It would be good practice to ensure that your function can handle edge cases such as, when the input file does not exist (see https://docs.python.org/3/library/os.path.html), when the input file has nothing in it, or when the output file already exists. Test your code as much as you can by creating files and passing their names into your function. Bonus: Can you think of a way to make your function more general so that the user of the function can specify which lines they would like to copy of the input file?"
   ]
  },
  {
   "cell_type": "markdown",
   "metadata": {},
   "source": [
    "`2` Using the documentation, https://docs.python.org/3/library/os.path.html and https://docs.python.org/3/library/stdtypes.html#string-methods, write a function called directory_search() that will search through a given directory, and copy all of the files in that directory whose names begin with a given key phrase, placing the copies in a new directory.  If the inputted directory name was \"data_dir/\", then name the new directory as \"subset_of_data_dir/\". Make sure to consider edge cases and test your code!"
   ]
  },
  {
   "cell_type": "code",
   "execution_count": null,
   "metadata": {},
   "outputs": [],
   "source": []
  },
  {
   "cell_type": "markdown",
   "metadata": {},
   "source": [
    "### Calculate Cycle Number\n",
    "\n",
    "We are performing an experiment that alternates voltage between 0 and 5 volts while recording information about our sample at each timestep. Each cycle is composed of a 0 voltage period and a high voltage period. We need to count the number of cycles for our analysis, but for unclear reasons, our instrument does not record the cycle number. Instead, we will need to infer the cycle number from the control voltage. Write a function that takes a list the control voltage at many timesteps and returns a list of the cycle number at each timestep. For example, our input might be:\n",
    "\n",
    "[0, 0, 0, 0, 5, 5, 5, 5, 5, 0, 0, 0, 0, 0, 0, 0, 5, 5, 5, 5, 0, 0, 0, 5, 5, 5]\n",
    "\n",
    "\n",
    "and we would want to output:\n",
    "\n",
    "[1, 1, 1, 1, 1, 1, 1, 1, 1, 2, 2, 2, 2, 2, 2, 2, 2, 2, 2, 2, 3, 3, 3, 3, 3, 3]\n",
    "\n",
    "\n",
    "Our voltage will always start at 0 but we are not guaranteed any particular cycle length. Our function should work for cycles of any length."
   ]
  },
  {
   "cell_type": "code",
   "execution_count": null,
   "metadata": {},
   "outputs": [],
   "source": [
    "def create_cycle_number_array(voltages):\n",
    "    # YOUR CODE HERE #\n",
    "    return # cycle number list #"
   ]
  },
  {
   "cell_type": "markdown",
   "metadata": {},
   "source": [
    "**Testing your code is an extremely good practice**\n",
    "\n",
    "If you have successfully written your function, the following cell should print `\"success\"` without any error."
   ]
  },
  {
   "cell_type": "code",
   "execution_count": null,
   "metadata": {},
   "outputs": [],
   "source": [
    "def test_create_cycle_number_array():\n",
    "    assert create_cycle_number_array([0, 5]) == [1, 1]\n",
    "    assert create_cycle_number_array([0, 0, 0, 5, 0, 0, 0, 5]) == [1, 1, 1, 1, 2, 2, 2, 2]\n",
    "    assert create_cycle_number_array([0, 5, 0, 5, 0, 5]) == [1, 1, 2, 2, 3, 3]\n",
    "    assert create_cycle_number_array([]) == []\n",
    "    print(\"success\")\n",
    "\n",
    "test_create_cycle_number_array()"
   ]
  },
  {
   "cell_type": "markdown",
   "metadata": {},
   "source": [
    "### 1D Ising-like Model\n",
    "\n",
    "This problem is loosely related to the [Ising model](https://www.quantamagazine.org/the-cartoon-picture-of-magnets-that-has-transformed-science-20200624/), which is a foundational model in statistical mechanics. It uses an array of binary variables to represent a wide variety of physical systems. Here, we will represent our Ising-like model as a variable length array of 1s and 0s.\n",
    "\n",
    "`ising_lattice = np.ndarray([1, 1, 0, 0, 1 ... 1, 0, 0])`\n",
    "\n",
    "We will treat the first and last entries as adjacent so that each element has two neighbors.\n",
    "\n",
    "We want to write a function that will randomly flip entries according to a few rules:\n",
    "\n",
    "1. At each iteration, choose a random element.\n",
    "\n",
    "2. If both the elements neighbors are the same, set the element to that value with probability 0.9 and to the opposite value with probability 0.1.\n",
    "\n",
    "3. If the neighbors are different, the probabilities are 0.5 & 0.5.\n",
    "\n",
    "Our function should return the new array **without modifying the original array** (that sort of \"side effect\" is almost always bad). Our new array will have a difference of at most one element. Not all iterations will generate any change.\n",
    "\n",
    "This problem is more complex than the previous two. While we could tackle it in one giant function, it's generally best practice to solve each piece of the problem and then **compose** our solutions. Here, we provide a scaffolding for that approach.\n",
    "\n",
    "Consider using the lattice below as a test case."
   ]
  },
  {
   "cell_type": "code",
   "execution_count": null,
   "metadata": {},
   "outputs": [],
   "source": [
    "test_lattice = np.array([0, 1, 0, 1])"
   ]
  },
  {
   "cell_type": "code",
   "execution_count": null,
   "metadata": {},
   "outputs": [],
   "source": [
    "# part 1\n",
    "# write a function to return a random valid index from our array\n",
    "# consider using random.randint\n",
    "\n",
    "def random_index_of(lattice):\n",
    "    return # random index"
   ]
  },
  {
   "cell_type": "code",
   "execution_count": null,
   "metadata": {},
   "outputs": [],
   "source": [
    "# part 2\n",
    "# write a function to return the sum of the neighbors of a given index\n",
    "\n",
    "def sum_neighbors(index, lattice):\n",
    "    # YOUR CODE HERE #\n",
    "    return # sum of neighbors"
   ]
  },
  {
   "cell_type": "code",
   "execution_count": null,
   "metadata": {},
   "outputs": [],
   "source": [
    "# part 3\n",
    "# write a function to sample a new value given the sum of neighbors\n",
    "# consider using random.uniform(0, 1) to generate a probability (you could also use random.choices)\n",
    "\n",
    "def sample_value(sum_of_neighbors):\n",
    "    # YOUR CODE HERE #\n",
    "    return # sampled value"
   ]
  },
  {
   "cell_type": "code",
   "execution_count": null,
   "metadata": {},
   "outputs": [],
   "source": [
    "# part 4\n",
    "# combine our previous functions to perturb our lattice and return the new perturbed lattice\n",
    "import numpy as np\n",
    "import random\n",
    "\n",
    "def perturb_lattice(lattice):\n",
    "    # YOUR CODE HERE #\n",
    "    return # perturbed lattice"
   ]
  },
  {
   "cell_type": "markdown",
   "metadata": {},
   "source": [
    "**Testing your code is an extremely good practice**\n",
    "\n",
    "This function is probabilistic but that doesn't mean we can't test it! It's generally good practice to test\n",
    "ALL of your functions, this would include `random_index_of`, `sum_neighbors`, and `sample_value`. Generally, the smaller the function, the easier it is to test! That's another good reason to split your code up into functions. Here, I've only written a test for the final product, `perturb_lattice`."
   ]
  },
  {
   "cell_type": "code",
   "execution_count": null,
   "metadata": {},
   "outputs": [],
   "source": [
    "def test_perturb_lattice():\n",
    "    possible_lists = [[0, 0, 1, 0], [1, 1, 1, 0], [1, 0, 0, 0], [1, 0, 1, 1], [1, 0, 1, 0]]\n",
    "    lattice_list = list(perturb_lattice([1, 0, 1, 0]))\n",
    "    assert lattice_list in possible_lists\n",
    "\n",
    "test_perturb_lattice()"
   ]
  },
  {
   "cell_type": "markdown",
   "metadata": {},
   "source": [
    "### Drawing Shapes\n",
    "\n",
    "Not much doumentation needed for this one (maybe https://docs.python.org/3/library/stdtypes.html#string-methods), but it's fun! Write a function that will take the name of a shape as input, and print that shape in form of asterisks. Try to make it work for as many inputs as possible!"
   ]
  },
  {
   "cell_type": "code",
   "execution_count": null,
   "metadata": {},
   "outputs": [],
   "source": []
  }
 ],
 "metadata": {
  "kernelspec": {
   "display_name": "Python 3 (ipykernel)",
   "language": "python",
   "name": "python3"
  },
  "language_info": {
   "codemirror_mode": {
    "name": "ipython",
    "version": 3
   },
   "file_extension": ".py",
   "mimetype": "text/x-python",
   "name": "python",
   "nbconvert_exporter": "python",
   "pygments_lexer": "ipython3",
   "version": "3.9.15"
  }
 },
 "nbformat": 4,
 "nbformat_minor": 4
}
